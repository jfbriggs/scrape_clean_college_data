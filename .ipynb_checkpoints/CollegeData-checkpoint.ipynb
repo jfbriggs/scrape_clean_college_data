{
 "cells": [
  {
   "cell_type": "markdown",
   "metadata": {},
   "source": [
    "# Scraping and Cleaning High-Level College Data\n",
    "\n",
    "In this project, we'll be parsing college data from [CollegeData.com](https://www.collegedata.com/en/).  The site provides a wealth of information for prospective U.S.-based college students in an effort to help them with their decision-making process (providing data relating to areas such as financials, student population and statistics, satisfaction rates, etc).  It's a reasonably full-featured platform, overall, that provides users the ability to dive into the data, track deadlines, and find strong school matches for themselves; among other things.\n",
    "\n",
    "We'll be pulling and parsing HTML data from CollegeData's search feature, focusing on compiling the high-level data provided initially as search results by the site (versus diving into individual college pages for more granular data - certainly a candidate for a subsequent project).  Once we parse out the information we're interested in, we will organize and clean it using pandas."
   ]
  },
  {
   "cell_type": "markdown",
   "metadata": {},
   "source": [
    "## Pulling the HTML Code & Parsing The Data\n",
    "\n",
    "For the sake of expediency, avoiding possible future issues with changes to the HTML structure of CollegeData's search results page, and accounting for the fact that the search results gate some of the data based on the lack of a request verification token (normally attained through being logged in to a free account on the website); we've already saved a copy of the full HTML file (`collegedata.html`) that was pulled using Python's `requests` package.\n",
    "\n",
    "For posterity: the HTML was retrieved by sending a `GET` request to `https://www.collegedata.com/en/explore-colleges/college-search/SearchByPreference/?SearchByPreference.SearchType=1&SearchByPreference.CollegeName=*` with a request verification token included within the request headers.  Note that this URL provides nothing other than `*` as search criteria, allowing us to pull results that include all available schools in CollegeData's database."
   ]
  },
  {
   "cell_type": "markdown",
   "metadata": {},
   "source": [
    "### Opening the HTML & Initializing the Parser\n",
    "\n",
    "We'll begin by opening our HTML file and using the BeautifulSoup package to create an HTML parser object, which we will use to extract the data we're interested in.  We'll also import the `re` package to use in combination with BeautifulSoup in selecting target elements."
   ]
  },
  {
   "cell_type": "code",
   "execution_count": 3,
   "metadata": {},
   "outputs": [],
   "source": [
    "from bs4 import BeautifulSoup\n",
    "import re\n",
    "\n",
    "with open(\"collegedata.html\") as html_file:\n",
    "    html_data = BeautifulSoup(html_file, \"html.parser\")"
   ]
  },
  {
   "cell_type": "markdown",
   "metadata": {},
   "source": [
    "On CollegeData's search results page, results are organized into a table with 3 separate tabs of data (Vitals, Financial, and Students) and a paginated list of schools making up the table rows.  The \"College Chances\" and locker icon columns are relevant to the site's services, but not to us.  The results page indicates that, by running a search that captures all schools in CollegeData's database, we get data on 1966 schools total.\n",
    "\n",
    "![title](collegedataresults.png)\n",
    "\n",
    "Upon brief inspection of the HTML code, we notice that each table row element that represents a school's data contains the `data-school-id` attribute along with an ID value.  Let's parse the entire tree for every element containing this attribute."
   ]
  },
  {
   "cell_type": "code",
   "execution_count": 5,
   "metadata": {},
   "outputs": [
    {
     "data": {
      "text/plain": [
       "5898"
      ]
     },
     "execution_count": 5,
     "metadata": {},
     "output_type": "execute_result"
    }
   ],
   "source": [
    "data_by_ids = html_data.find_all(attrs={\"data-school-id\": True})\n",
    "len(data_by_ids)"
   ]
  },
  {
   "cell_type": "markdown",
   "metadata": {},
   "source": [
    "There are 5898 items contained in this collection, which suggests that each school is represented in the code 3 times.  This makes sense, given that there are 3 tabs of data in the table, but let's confirm by looking at the number of _unique_ ID values (we should expect 1966)."
   ]
  },
  {
   "cell_type": "code",
   "execution_count": 13,
   "metadata": {},
   "outputs": [
    {
     "data": {
      "text/plain": [
       "1966"
      ]
     },
     "execution_count": 13,
     "metadata": {},
     "output_type": "execute_result"
    }
   ],
   "source": [
    "ids = set([int(item[\"data-school-id\"]) for item in data_by_ids])\n",
    "len(ids)"
   ]
  },
  {
   "cell_type": "markdown",
   "metadata": {},
   "source": [
    "Upon further inspection of the HTML code, we notice that each tab appears to be represented as a distinct table entirely, each containing an element ID that uses the `colleges_table_` prefex.  Let's check how many of these there are."
   ]
  },
  {
   "cell_type": "code",
   "execution_count": 11,
   "metadata": {},
   "outputs": [
    {
     "name": "stdout",
     "output_type": "stream",
     "text": [
      "colleges_table_vitals\n",
      "colleges_table_financial\n",
      "colleges_table_students\n"
     ]
    }
   ],
   "source": [
    "data_tables = data.find_all(id=re.compile(\"colleges_table_\"))\n",
    "\n",
    "for table in data_tables:\n",
    "    print(table['id'])"
   ]
  },
  {
   "cell_type": "markdown",
   "metadata": {},
   "source": [
    "Confirmed: there are 3 separate tables, each with an ID beginning with `colleges_table_` and ending with the tab label.  Given this structure, we'll start out by extracting the data we want into 3 separate collections, and then combine them.\n",
    "\n",
    "### Extracting the Table Rows\n",
    "\n",
    "Let's create 3 lists to represent the row elements from each table, and populate them with the table row elements (again, each representing a school) by using the same `data-school-id` attribute we used above."
   ]
  },
  {
   "cell_type": "code",
   "execution_count": 15,
   "metadata": {},
   "outputs": [
    {
     "data": {
      "text/plain": [
       "1966"
      ]
     },
     "execution_count": 15,
     "metadata": {},
     "output_type": "execute_result"
    }
   ],
   "source": [
    "table_rows = {\n",
    "    \"vitals\": [],\n",
    "    \"financial\": [],\n",
    "    \"students\": []\n",
    "}\n",
    "\n",
    "# iterate through each table element, searching it for all elements with data-school-id attributes and saving to the appropriate list\n",
    "for table in data_tables:\n",
    "    table_name = table[\"id\"].replace(\"colleges_table_\", \"\")\n",
    "    row_elements = table.find_all(attrs={\"data-school-id\": True})\n",
    "    table_rows[table_name] = row_elements\n",
    "    \n",
    "len(table_rows[\"vitals\"]) # check the length of one of our collections, to ensure it's 1966, as expected"
   ]
  },
  {
   "cell_type": "markdown",
   "metadata": {},
   "source": [
    "### Extracting Values From Table Cells\n",
    "\n",
    "Now that we have our 3 lists of table rows, let's iterate through them and extract the individual values for each of the columns of relevant data.  We'll create a helper function to extract a cell value, which we can use for every column other than the college name and CollegeData assigned school ID value (the latter of which we'll capture now, but won't need later)."
   ]
  },
  {
   "cell_type": "code",
   "execution_count": 16,
   "metadata": {},
   "outputs": [],
   "source": [
    "# helper function: extracts text from element passed to it\n",
    "def extract_value(cell):\n",
    "    return cell.find_all(string=True)[2].strip()\n",
    "\n",
    "# extract values for the rows in all 3 tables\n",
    "table_row_values = {}\n",
    "for table in table_rows.keys():\n",
    "    table_items = []\n",
    "    for row in table_rows[table]:\n",
    "        row_data = []\n",
    "        row_cells = row.find_all(\"td\")\n",
    "        row_data.append(row_cells[0].find(href=re.compile(\"/college\")).string)\n",
    "        row_data.append(row_cells[1].find(attrs={\"data-schoolidvalue\":True})[\"data-schoolidvalue\"]) # we'll need these assigned school_id values for merging data later\n",
    "        for i in range(2, len(row_cells)):\n",
    "            row_data.append(extract_value(row_cells[i]))\n",
    "        table_items.append(row_data)\n",
    "    table_row_values[table] = table_items"
   ]
  },
  {
   "cell_type": "markdown",
   "metadata": {},
   "source": [
    "Let's check that the values for each table have been correctly extracted by examining the first row's from each."
   ]
  },
  {
   "cell_type": "code",
   "execution_count": 17,
   "metadata": {},
   "outputs": [
    {
     "name": "stdout",
     "output_type": "stream",
     "text": [
      "['West Texas A&M University', '949', 'Canyon', 'TX', '7,394', 'Pub', 'Mod', '64%', '25.2%']\n",
      "['West Texas A&M University', '949', '', '$21,426', '$23,012', '62%', '55%', '$23,670']\n",
      "['West Texas A&M University', '949', 'Coed', '0.5%', '4.9%', '1.9%', '29%', '1.8%']\n"
     ]
    }
   ],
   "source": [
    "print(table_row_values[\"vitals\"][0])\n",
    "print(table_row_values[\"financial\"][0])\n",
    "print(table_row_values[\"students\"][0])"
   ]
  },
  {
   "cell_type": "markdown",
   "metadata": {},
   "source": [
    "We've correctly extracted all of the values we're interested in.\n",
    "\n",
    "## Converting to DataFrames\n",
    "\n",
    "Now let's move on to compiling our data into pandas dataframes.  We'll start out, keeping it simple, by using the same column names as the CollegeData search results tabs (but convert them to snake-case, to conform to Python standards)."
   ]
  },
  {
   "cell_type": "code",
   "execution_count": 21,
   "metadata": {},
   "outputs": [],
   "source": [
    "import pandas as pd\n",
    "\n",
    "table_columns = {\n",
    "    \"vitals\": [\"name\", \"school_id\", \"city\", \"state\", \"size\", \"type\", \"entrance_difficulty\", \"freshman_satisfaction\", \"grad_rate\"],\n",
    "    \"financial\": [\"name\", \"school_id\", \"your_net_price\", \"resident_coa\", \"nonresident_coa\", \"need_met\", \"merit_aid\", \"student_debt\"],\n",
    "    \"students\": [\"name\", \"school_id\", \"gender_mix\", \"american_indian\", \"african_american\", \"asian_pacific_islander\", \"hispanic\", \"intl\"]\n",
    "}\n",
    "\n",
    "vitals_data = pd.DataFrame(table_row_values[\"vitals\"], columns = table_columns[\"vitals\"])\n",
    "financial_data = pd.DataFrame(table_row_values[\"financial\"], columns = table_columns[\"financial\"])\n",
    "students_data = pd.DataFrame(table_row_values[\"students\"], columns = table_columns[\"students\"])"
   ]
  },
  {
   "cell_type": "code",
   "execution_count": 22,
   "metadata": {},
   "outputs": [
    {
     "data": {
      "text/html": [
       "<div>\n",
       "<style scoped>\n",
       "    .dataframe tbody tr th:only-of-type {\n",
       "        vertical-align: middle;\n",
       "    }\n",
       "\n",
       "    .dataframe tbody tr th {\n",
       "        vertical-align: top;\n",
       "    }\n",
       "\n",
       "    .dataframe thead th {\n",
       "        text-align: right;\n",
       "    }\n",
       "</style>\n",
       "<table border=\"1\" class=\"dataframe\">\n",
       "  <thead>\n",
       "    <tr style=\"text-align: right;\">\n",
       "      <th></th>\n",
       "      <th>name</th>\n",
       "      <th>school_id</th>\n",
       "      <th>city</th>\n",
       "      <th>state</th>\n",
       "      <th>size</th>\n",
       "      <th>type</th>\n",
       "      <th>entrance_difficulty</th>\n",
       "      <th>freshman_satisfaction</th>\n",
       "      <th>grad_rate</th>\n",
       "    </tr>\n",
       "  </thead>\n",
       "  <tbody>\n",
       "    <tr>\n",
       "      <th>0</th>\n",
       "      <td>West Texas A&amp;M University</td>\n",
       "      <td>949</td>\n",
       "      <td>Canyon</td>\n",
       "      <td>TX</td>\n",
       "      <td>7,394</td>\n",
       "      <td>Pub</td>\n",
       "      <td>Mod</td>\n",
       "      <td>64%</td>\n",
       "      <td>25.2%</td>\n",
       "    </tr>\n",
       "    <tr>\n",
       "      <th>1</th>\n",
       "      <td>Rose-Hulman Institute of Technology</td>\n",
       "      <td>883</td>\n",
       "      <td>Terre Haute</td>\n",
       "      <td>IN</td>\n",
       "      <td>2,168</td>\n",
       "      <td>Priv</td>\n",
       "      <td>Very</td>\n",
       "      <td>91.2%</td>\n",
       "      <td>66.5%</td>\n",
       "    </tr>\n",
       "    <tr>\n",
       "      <th>2</th>\n",
       "      <td>Dominican College</td>\n",
       "      <td>886</td>\n",
       "      <td>Orangeburg</td>\n",
       "      <td>NY</td>\n",
       "      <td>1,425</td>\n",
       "      <td>Priv</td>\n",
       "      <td>Non</td>\n",
       "      <td>74%</td>\n",
       "      <td>28.7%</td>\n",
       "    </tr>\n",
       "    <tr>\n",
       "      <th>3</th>\n",
       "      <td>University of Puget Sound</td>\n",
       "      <td>859</td>\n",
       "      <td>Tacoma</td>\n",
       "      <td>WA</td>\n",
       "      <td>2,364</td>\n",
       "      <td>Priv</td>\n",
       "      <td>Mod</td>\n",
       "      <td>80.7%</td>\n",
       "      <td>65.8%</td>\n",
       "    </tr>\n",
       "    <tr>\n",
       "      <th>4</th>\n",
       "      <td>Champlain College</td>\n",
       "      <td>1270</td>\n",
       "      <td>Burlington</td>\n",
       "      <td>VT</td>\n",
       "      <td>2,129</td>\n",
       "      <td>Priv</td>\n",
       "      <td>Mod</td>\n",
       "      <td>78%</td>\n",
       "      <td>53.9%</td>\n",
       "    </tr>\n",
       "  </tbody>\n",
       "</table>\n",
       "</div>"
      ],
      "text/plain": [
       "                                  name school_id         city state   size  \\\n",
       "0            West Texas A&M University       949       Canyon    TX  7,394   \n",
       "1  Rose-Hulman Institute of Technology       883  Terre Haute    IN  2,168   \n",
       "2                    Dominican College       886   Orangeburg    NY  1,425   \n",
       "3            University of Puget Sound       859       Tacoma    WA  2,364   \n",
       "4                    Champlain College      1270   Burlington    VT  2,129   \n",
       "\n",
       "   type entrance_difficulty freshman_satisfaction grad_rate  \n",
       "0   Pub                 Mod                   64%     25.2%  \n",
       "1  Priv                Very                 91.2%     66.5%  \n",
       "2  Priv                 Non                   74%     28.7%  \n",
       "3  Priv                 Mod                 80.7%     65.8%  \n",
       "4  Priv                 Mod                   78%     53.9%  "
      ]
     },
     "execution_count": 22,
     "metadata": {},
     "output_type": "execute_result"
    }
   ],
   "source": [
    "vitals_data.head()"
   ]
  },
  {
   "cell_type": "code",
   "execution_count": 23,
   "metadata": {},
   "outputs": [
    {
     "data": {
      "text/html": [
       "<div>\n",
       "<style scoped>\n",
       "    .dataframe tbody tr th:only-of-type {\n",
       "        vertical-align: middle;\n",
       "    }\n",
       "\n",
       "    .dataframe tbody tr th {\n",
       "        vertical-align: top;\n",
       "    }\n",
       "\n",
       "    .dataframe thead th {\n",
       "        text-align: right;\n",
       "    }\n",
       "</style>\n",
       "<table border=\"1\" class=\"dataframe\">\n",
       "  <thead>\n",
       "    <tr style=\"text-align: right;\">\n",
       "      <th></th>\n",
       "      <th>name</th>\n",
       "      <th>school_id</th>\n",
       "      <th>your_net_price</th>\n",
       "      <th>resident_coa</th>\n",
       "      <th>nonresident_coa</th>\n",
       "      <th>need_met</th>\n",
       "      <th>merit_aid</th>\n",
       "      <th>student_debt</th>\n",
       "    </tr>\n",
       "  </thead>\n",
       "  <tbody>\n",
       "    <tr>\n",
       "      <th>0</th>\n",
       "      <td>West Texas A&amp;M University</td>\n",
       "      <td>949</td>\n",
       "      <td></td>\n",
       "      <td>$21,426</td>\n",
       "      <td>$23,012</td>\n",
       "      <td>62%</td>\n",
       "      <td>55%</td>\n",
       "      <td>$23,670</td>\n",
       "    </tr>\n",
       "    <tr>\n",
       "      <th>1</th>\n",
       "      <td>Rose-Hulman Institute of Technology</td>\n",
       "      <td>883</td>\n",
       "      <td></td>\n",
       "      <td>$70,401</td>\n",
       "      <td>$70,401</td>\n",
       "      <td>Not reported</td>\n",
       "      <td>Not Reported</td>\n",
       "      <td>$45,345</td>\n",
       "    </tr>\n",
       "    <tr>\n",
       "      <th>2</th>\n",
       "      <td>Dominican College</td>\n",
       "      <td>886</td>\n",
       "      <td></td>\n",
       "      <td>$46,600</td>\n",
       "      <td>$46,600</td>\n",
       "      <td>71%</td>\n",
       "      <td>17%</td>\n",
       "      <td>$32,527</td>\n",
       "    </tr>\n",
       "    <tr>\n",
       "      <th>3</th>\n",
       "      <td>University of Puget Sound</td>\n",
       "      <td>859</td>\n",
       "      <td></td>\n",
       "      <td>$68,146</td>\n",
       "      <td>$68,146</td>\n",
       "      <td>78%</td>\n",
       "      <td>44%</td>\n",
       "      <td>$32,999</td>\n",
       "    </tr>\n",
       "    <tr>\n",
       "      <th>4</th>\n",
       "      <td>Champlain College</td>\n",
       "      <td>1270</td>\n",
       "      <td></td>\n",
       "      <td>$61,012</td>\n",
       "      <td>$61,012</td>\n",
       "      <td>71%</td>\n",
       "      <td>22%</td>\n",
       "      <td>$35,383</td>\n",
       "    </tr>\n",
       "  </tbody>\n",
       "</table>\n",
       "</div>"
      ],
      "text/plain": [
       "                                  name school_id your_net_price resident_coa  \\\n",
       "0            West Texas A&M University       949                     $21,426   \n",
       "1  Rose-Hulman Institute of Technology       883                     $70,401   \n",
       "2                    Dominican College       886                     $46,600   \n",
       "3            University of Puget Sound       859                     $68,146   \n",
       "4                    Champlain College      1270                     $61,012   \n",
       "\n",
       "  nonresident_coa      need_met     merit_aid student_debt  \n",
       "0         $23,012           62%           55%      $23,670  \n",
       "1         $70,401  Not reported  Not Reported      $45,345  \n",
       "2         $46,600           71%           17%      $32,527  \n",
       "3         $68,146           78%           44%      $32,999  \n",
       "4         $61,012           71%           22%      $35,383  "
      ]
     },
     "execution_count": 23,
     "metadata": {},
     "output_type": "execute_result"
    }
   ],
   "source": [
    "financial_data.head()"
   ]
  },
  {
   "cell_type": "code",
   "execution_count": 24,
   "metadata": {},
   "outputs": [
    {
     "data": {
      "text/html": [
       "<div>\n",
       "<style scoped>\n",
       "    .dataframe tbody tr th:only-of-type {\n",
       "        vertical-align: middle;\n",
       "    }\n",
       "\n",
       "    .dataframe tbody tr th {\n",
       "        vertical-align: top;\n",
       "    }\n",
       "\n",
       "    .dataframe thead th {\n",
       "        text-align: right;\n",
       "    }\n",
       "</style>\n",
       "<table border=\"1\" class=\"dataframe\">\n",
       "  <thead>\n",
       "    <tr style=\"text-align: right;\">\n",
       "      <th></th>\n",
       "      <th>name</th>\n",
       "      <th>school_id</th>\n",
       "      <th>gender_mix</th>\n",
       "      <th>american_indian</th>\n",
       "      <th>african_american</th>\n",
       "      <th>asian_pacific_islander</th>\n",
       "      <th>hispanic</th>\n",
       "      <th>intl</th>\n",
       "    </tr>\n",
       "  </thead>\n",
       "  <tbody>\n",
       "    <tr>\n",
       "      <th>0</th>\n",
       "      <td>West Texas A&amp;M University</td>\n",
       "      <td>949</td>\n",
       "      <td>Coed</td>\n",
       "      <td>0.5%</td>\n",
       "      <td>4.9%</td>\n",
       "      <td>1.9%</td>\n",
       "      <td>29%</td>\n",
       "      <td>1.8%</td>\n",
       "    </tr>\n",
       "    <tr>\n",
       "      <th>1</th>\n",
       "      <td>Rose-Hulman Institute of Technology</td>\n",
       "      <td>883</td>\n",
       "      <td></td>\n",
       "      <td>0.2%</td>\n",
       "      <td>3.2%</td>\n",
       "      <td>6.1%</td>\n",
       "      <td>5.3%</td>\n",
       "      <td>14.6%</td>\n",
       "    </tr>\n",
       "    <tr>\n",
       "      <th>2</th>\n",
       "      <td>Dominican College</td>\n",
       "      <td>886</td>\n",
       "      <td>Coed</td>\n",
       "      <td>0%</td>\n",
       "      <td>15.2%</td>\n",
       "      <td>6.8%</td>\n",
       "      <td>30.8%</td>\n",
       "      <td>1.4%</td>\n",
       "    </tr>\n",
       "    <tr>\n",
       "      <th>3</th>\n",
       "      <td>University of Puget Sound</td>\n",
       "      <td>859</td>\n",
       "      <td>Coed</td>\n",
       "      <td>0.1%</td>\n",
       "      <td>1.8%</td>\n",
       "      <td>7%</td>\n",
       "      <td>8.8%</td>\n",
       "      <td>0.4%</td>\n",
       "    </tr>\n",
       "    <tr>\n",
       "      <th>4</th>\n",
       "      <td>Champlain College</td>\n",
       "      <td>1270</td>\n",
       "      <td>Coed</td>\n",
       "      <td>0.2%</td>\n",
       "      <td>2.7%</td>\n",
       "      <td>3%</td>\n",
       "      <td>6.7%</td>\n",
       "      <td>0.8%</td>\n",
       "    </tr>\n",
       "  </tbody>\n",
       "</table>\n",
       "</div>"
      ],
      "text/plain": [
       "                                  name school_id gender_mix american_indian  \\\n",
       "0            West Texas A&M University       949       Coed            0.5%   \n",
       "1  Rose-Hulman Institute of Technology       883                       0.2%   \n",
       "2                    Dominican College       886       Coed              0%   \n",
       "3            University of Puget Sound       859       Coed            0.1%   \n",
       "4                    Champlain College      1270       Coed            0.2%   \n",
       "\n",
       "  african_american asian_pacific_islander hispanic   intl  \n",
       "0             4.9%                   1.9%      29%   1.8%  \n",
       "1             3.2%                   6.1%     5.3%  14.6%  \n",
       "2            15.2%                   6.8%    30.8%   1.4%  \n",
       "3             1.8%                     7%     8.8%   0.4%  \n",
       "4             2.7%                     3%     6.7%   0.8%  "
      ]
     },
     "execution_count": 24,
     "metadata": {},
     "output_type": "execute_result"
    }
   ],
   "source": [
    "students_data.head()"
   ]
  },
  {
   "cell_type": "markdown",
   "metadata": {},
   "source": [
    "### Merging the Data\n",
    "\n",
    "Now that we've created our 3 separate dataframes, we can merge them into one.  Because all schools are represented in each of the 3 dataframes, we can confidently use an inner join.  We'll also merge on both the `school_id` and `name` values, since not only do both exist in all 3 dataframes, but it allows us to avoid any column duplication."
   ]
  },
  {
   "cell_type": "code",
   "execution_count": 25,
   "metadata": {},
   "outputs": [
    {
     "data": {
      "text/html": [
       "<div>\n",
       "<style scoped>\n",
       "    .dataframe tbody tr th:only-of-type {\n",
       "        vertical-align: middle;\n",
       "    }\n",
       "\n",
       "    .dataframe tbody tr th {\n",
       "        vertical-align: top;\n",
       "    }\n",
       "\n",
       "    .dataframe thead th {\n",
       "        text-align: right;\n",
       "    }\n",
       "</style>\n",
       "<table border=\"1\" class=\"dataframe\">\n",
       "  <thead>\n",
       "    <tr style=\"text-align: right;\">\n",
       "      <th></th>\n",
       "      <th>name</th>\n",
       "      <th>school_id</th>\n",
       "      <th>city</th>\n",
       "      <th>state</th>\n",
       "      <th>size</th>\n",
       "      <th>type</th>\n",
       "      <th>entrance_difficulty</th>\n",
       "      <th>freshman_satisfaction</th>\n",
       "      <th>grad_rate</th>\n",
       "      <th>your_net_price</th>\n",
       "      <th>...</th>\n",
       "      <th>nonresident_coa</th>\n",
       "      <th>need_met</th>\n",
       "      <th>merit_aid</th>\n",
       "      <th>student_debt</th>\n",
       "      <th>gender_mix</th>\n",
       "      <th>american_indian</th>\n",
       "      <th>african_american</th>\n",
       "      <th>asian_pacific_islander</th>\n",
       "      <th>hispanic</th>\n",
       "      <th>intl</th>\n",
       "    </tr>\n",
       "  </thead>\n",
       "  <tbody>\n",
       "    <tr>\n",
       "      <th>0</th>\n",
       "      <td>West Texas A&amp;M University</td>\n",
       "      <td>949</td>\n",
       "      <td>Canyon</td>\n",
       "      <td>TX</td>\n",
       "      <td>7,394</td>\n",
       "      <td>Pub</td>\n",
       "      <td>Mod</td>\n",
       "      <td>64%</td>\n",
       "      <td>25.2%</td>\n",
       "      <td></td>\n",
       "      <td>...</td>\n",
       "      <td>$23,012</td>\n",
       "      <td>62%</td>\n",
       "      <td>55%</td>\n",
       "      <td>$23,670</td>\n",
       "      <td>Coed</td>\n",
       "      <td>0.5%</td>\n",
       "      <td>4.9%</td>\n",
       "      <td>1.9%</td>\n",
       "      <td>29%</td>\n",
       "      <td>1.8%</td>\n",
       "    </tr>\n",
       "    <tr>\n",
       "      <th>1</th>\n",
       "      <td>Rose-Hulman Institute of Technology</td>\n",
       "      <td>883</td>\n",
       "      <td>Terre Haute</td>\n",
       "      <td>IN</td>\n",
       "      <td>2,168</td>\n",
       "      <td>Priv</td>\n",
       "      <td>Very</td>\n",
       "      <td>91.2%</td>\n",
       "      <td>66.5%</td>\n",
       "      <td></td>\n",
       "      <td>...</td>\n",
       "      <td>$70,401</td>\n",
       "      <td>Not reported</td>\n",
       "      <td>Not Reported</td>\n",
       "      <td>$45,345</td>\n",
       "      <td></td>\n",
       "      <td>0.2%</td>\n",
       "      <td>3.2%</td>\n",
       "      <td>6.1%</td>\n",
       "      <td>5.3%</td>\n",
       "      <td>14.6%</td>\n",
       "    </tr>\n",
       "    <tr>\n",
       "      <th>2</th>\n",
       "      <td>Dominican College</td>\n",
       "      <td>886</td>\n",
       "      <td>Orangeburg</td>\n",
       "      <td>NY</td>\n",
       "      <td>1,425</td>\n",
       "      <td>Priv</td>\n",
       "      <td>Non</td>\n",
       "      <td>74%</td>\n",
       "      <td>28.7%</td>\n",
       "      <td></td>\n",
       "      <td>...</td>\n",
       "      <td>$46,600</td>\n",
       "      <td>71%</td>\n",
       "      <td>17%</td>\n",
       "      <td>$32,527</td>\n",
       "      <td>Coed</td>\n",
       "      <td>0%</td>\n",
       "      <td>15.2%</td>\n",
       "      <td>6.8%</td>\n",
       "      <td>30.8%</td>\n",
       "      <td>1.4%</td>\n",
       "    </tr>\n",
       "    <tr>\n",
       "      <th>3</th>\n",
       "      <td>University of Puget Sound</td>\n",
       "      <td>859</td>\n",
       "      <td>Tacoma</td>\n",
       "      <td>WA</td>\n",
       "      <td>2,364</td>\n",
       "      <td>Priv</td>\n",
       "      <td>Mod</td>\n",
       "      <td>80.7%</td>\n",
       "      <td>65.8%</td>\n",
       "      <td></td>\n",
       "      <td>...</td>\n",
       "      <td>$68,146</td>\n",
       "      <td>78%</td>\n",
       "      <td>44%</td>\n",
       "      <td>$32,999</td>\n",
       "      <td>Coed</td>\n",
       "      <td>0.1%</td>\n",
       "      <td>1.8%</td>\n",
       "      <td>7%</td>\n",
       "      <td>8.8%</td>\n",
       "      <td>0.4%</td>\n",
       "    </tr>\n",
       "    <tr>\n",
       "      <th>4</th>\n",
       "      <td>Champlain College</td>\n",
       "      <td>1270</td>\n",
       "      <td>Burlington</td>\n",
       "      <td>VT</td>\n",
       "      <td>2,129</td>\n",
       "      <td>Priv</td>\n",
       "      <td>Mod</td>\n",
       "      <td>78%</td>\n",
       "      <td>53.9%</td>\n",
       "      <td></td>\n",
       "      <td>...</td>\n",
       "      <td>$61,012</td>\n",
       "      <td>71%</td>\n",
       "      <td>22%</td>\n",
       "      <td>$35,383</td>\n",
       "      <td>Coed</td>\n",
       "      <td>0.2%</td>\n",
       "      <td>2.7%</td>\n",
       "      <td>3%</td>\n",
       "      <td>6.7%</td>\n",
       "      <td>0.8%</td>\n",
       "    </tr>\n",
       "  </tbody>\n",
       "</table>\n",
       "<p>5 rows × 21 columns</p>\n",
       "</div>"
      ],
      "text/plain": [
       "                                  name school_id         city state   size  \\\n",
       "0            West Texas A&M University       949       Canyon    TX  7,394   \n",
       "1  Rose-Hulman Institute of Technology       883  Terre Haute    IN  2,168   \n",
       "2                    Dominican College       886   Orangeburg    NY  1,425   \n",
       "3            University of Puget Sound       859       Tacoma    WA  2,364   \n",
       "4                    Champlain College      1270   Burlington    VT  2,129   \n",
       "\n",
       "   type entrance_difficulty freshman_satisfaction grad_rate your_net_price  \\\n",
       "0   Pub                 Mod                   64%     25.2%                  \n",
       "1  Priv                Very                 91.2%     66.5%                  \n",
       "2  Priv                 Non                   74%     28.7%                  \n",
       "3  Priv                 Mod                 80.7%     65.8%                  \n",
       "4  Priv                 Mod                   78%     53.9%                  \n",
       "\n",
       "   ... nonresident_coa      need_met     merit_aid student_debt gender_mix  \\\n",
       "0  ...         $23,012           62%           55%      $23,670       Coed   \n",
       "1  ...         $70,401  Not reported  Not Reported      $45,345              \n",
       "2  ...         $46,600           71%           17%      $32,527       Coed   \n",
       "3  ...         $68,146           78%           44%      $32,999       Coed   \n",
       "4  ...         $61,012           71%           22%      $35,383       Coed   \n",
       "\n",
       "  american_indian african_american asian_pacific_islander hispanic   intl  \n",
       "0            0.5%             4.9%                   1.9%      29%   1.8%  \n",
       "1            0.2%             3.2%                   6.1%     5.3%  14.6%  \n",
       "2              0%            15.2%                   6.8%    30.8%   1.4%  \n",
       "3            0.1%             1.8%                     7%     8.8%   0.4%  \n",
       "4            0.2%             2.7%                     3%     6.7%   0.8%  \n",
       "\n",
       "[5 rows x 21 columns]"
      ]
     },
     "execution_count": 25,
     "metadata": {},
     "output_type": "execute_result"
    }
   ],
   "source": [
    "merged_data = vitals_data.merge(financial_data, how=\"inner\", on=[\"name\", \"school_id\"])\n",
    "merged_data = merged_data.merge(students_data, how=\"inner\", on=[\"name\", \"school_id\"])\n",
    "\n",
    "merged_data.head()"
   ]
  },
  {
   "cell_type": "code",
   "execution_count": 26,
   "metadata": {},
   "outputs": [
    {
     "name": "stdout",
     "output_type": "stream",
     "text": [
      "<class 'pandas.core.frame.DataFrame'>\n",
      "Int64Index: 1966 entries, 0 to 1965\n",
      "Data columns (total 21 columns):\n",
      "name                      1966 non-null object\n",
      "school_id                 1966 non-null object\n",
      "city                      1966 non-null object\n",
      "state                     1966 non-null object\n",
      "size                      1966 non-null object\n",
      "type                      1966 non-null object\n",
      "entrance_difficulty       1966 non-null object\n",
      "freshman_satisfaction     1966 non-null object\n",
      "grad_rate                 1966 non-null object\n",
      "your_net_price            1966 non-null object\n",
      "resident_coa              1966 non-null object\n",
      "nonresident_coa           1966 non-null object\n",
      "need_met                  1966 non-null object\n",
      "merit_aid                 1966 non-null object\n",
      "student_debt              1966 non-null object\n",
      "gender_mix                1966 non-null object\n",
      "american_indian           1966 non-null object\n",
      "african_american          1966 non-null object\n",
      "asian_pacific_islander    1966 non-null object\n",
      "hispanic                  1966 non-null object\n",
      "intl                      1966 non-null object\n",
      "dtypes: object(21)\n",
      "memory usage: 337.9+ KB\n"
     ]
    }
   ],
   "source": [
    "merged_data.info()"
   ]
  },
  {
   "cell_type": "markdown",
   "metadata": {},
   "source": [
    "We've successfully merged our data into one dataframe.\n",
    "\n",
    "It appears that there are no missing values anywhere, and that every column contains string values - we'll come back to this a little later."
   ]
  },
  {
   "cell_type": "markdown",
   "metadata": {},
   "source": [
    "## Cleaning the Data\n",
    "\n",
    "### Removing Irrelevant Columns\n",
    "\n",
    "There are two columns that now stand out as unnecessary at this point: `school_id` (ID values assigned by CollegeData) and `your_net_price` (a financial calculation column only used as part of CollegeData's services).  Let's drop them."
   ]
  },
  {
   "cell_type": "code",
   "execution_count": 27,
   "metadata": {},
   "outputs": [],
   "source": [
    "merged_data = merged_data.drop([\"your_net_price\", \"school_id\"], axis = 1)"
   ]
  },
  {
   "cell_type": "markdown",
   "metadata": {},
   "source": [
    "### Adjusting Column Names\n",
    "\n",
    "Let's modify a few column names for clarity."
   ]
  },
  {
   "cell_type": "code",
   "execution_count": 40,
   "metadata": {},
   "outputs": [
    {
     "data": {
      "text/plain": [
       "Index(['name', 'city', 'state', 'n_students', 'type', 'acceptance_difficulty',\n",
       "       'freshman_satisfaction', 'grad_rate', 'resident_cost',\n",
       "       'nonresident_cost', 'need_met', 'merit_aid', 'avg_grad_debt',\n",
       "       'gender_mix', 'pct_american_indian', 'pct_african_american',\n",
       "       'pct_asian_pacific_islander', 'pct_hispanic', 'pct_international'],\n",
       "      dtype='object')"
      ]
     },
     "execution_count": 40,
     "metadata": {},
     "output_type": "execute_result"
    }
   ],
   "source": [
    "merged_data.rename(columns={\n",
    "    \"size\": \"n_students\",\n",
    "    \"entrance_difficulty\": \"acceptance_difficulty\",\n",
    "    \"resident_coa\": \"resident_cost\",\n",
    "    \"nonresident_coa\": \"nonresident_cost\",\n",
    "    \"student_debt\": \"avg_grad_debt\",\n",
    "    \"american_indian\": \"pct_american_indian\",\n",
    "    \"african_american\": \"pct_african_american\",\n",
    "    \"asian_pacific_islander\": \"pct_asian_pacific_islander\",\n",
    "    \"hispanic\": \"pct_hispanic\",\n",
    "    \"intl\": \"pct_international\"\n",
    "}, inplace=True)\n",
    "\n",
    "merged_data.columns"
   ]
  },
  {
   "cell_type": "markdown",
   "metadata": {},
   "source": [
    "### Handling Missing Values\n",
    "\n",
    "As was observed earlier, on first glance, it appears that our dataset contains no missing values.  However, given that our data originated from parsing HTML, it is all in string form.  Thus, missing values could still exist, such as in the form of an empty string.  From browsing through the original search results on the CollegeData.com website, we know that some schools were missing data, and the missing values were represented in a few different ways.\n",
    "\n",
    "To start, let's look into how many empty strings exist for each of our columns."
   ]
  },
  {
   "cell_type": "code",
   "execution_count": 41,
   "metadata": {},
   "outputs": [
    {
     "name": "stdout",
     "output_type": "stream",
     "text": [
      "Empty strings in name: 0\n",
      "Empty strings in city: 0\n",
      "Empty strings in state: 0\n",
      "Empty strings in n_students: 0\n",
      "Empty strings in type: 7\n",
      "Empty strings in acceptance_difficulty: 180\n",
      "Empty strings in freshman_satisfaction: 0\n",
      "Empty strings in grad_rate: 0\n",
      "Empty strings in resident_cost: 0\n",
      "Empty strings in nonresident_cost: 0\n",
      "Empty strings in need_met: 0\n",
      "Empty strings in merit_aid: 0\n",
      "Empty strings in avg_grad_debt: 0\n",
      "Empty strings in gender_mix: 77\n",
      "Empty strings in pct_american_indian: 0\n",
      "Empty strings in pct_african_american: 0\n",
      "Empty strings in pct_asian_pacific_islander: 0\n",
      "Empty strings in pct_hispanic: 0\n",
      "Empty strings in pct_international: 0\n"
     ]
    }
   ],
   "source": [
    "for col in merged_data.columns:\n",
    "    print(\"Empty strings in \" + col + \":\", len(merged_data[merged_data[col] == \"\"]))"
   ]
  },
  {
   "cell_type": "markdown",
   "metadata": {},
   "source": [
    "We see that the columns `type` (7), `acceptance_difficulty` (180), and `gender` (77) each contain missing (empty string) values.  To fix that, we'll replace the empty strings with `Not Reported`, to stay consistent with other existing entries in the data."
   ]
  },
  {
   "cell_type": "code",
   "execution_count": 42,
   "metadata": {},
   "outputs": [
    {
     "data": {
      "text/plain": [
       "Priv            1193\n",
       "Pub              594\n",
       "Proft            172\n",
       "Not Reported       7\n",
       "Name: type, dtype: int64"
      ]
     },
     "execution_count": 42,
     "metadata": {},
     "output_type": "execute_result"
    }
   ],
   "source": [
    "merged_data.loc[merged_data[\"type\"] == \"\", \"type\"] = \"Not Reported\"\n",
    "merged_data[\"type\"].value_counts()"
   ]
  },
  {
   "cell_type": "code",
   "execution_count": 43,
   "metadata": {},
   "outputs": [
    {
     "data": {
      "text/plain": [
       "Mod             1078\n",
       "Min              317\n",
       "Not Reported     180\n",
       "Non              175\n",
       "Very             157\n",
       "Most              59\n",
       "Name: acceptance_difficulty, dtype: int64"
      ]
     },
     "execution_count": 43,
     "metadata": {},
     "output_type": "execute_result"
    }
   ],
   "source": [
    "merged_data.loc[merged_data[\"acceptance_difficulty\"] == \"\", \"acceptance_difficulty\"] = \"Not Reported\"\n",
    "merged_data[\"acceptance_difficulty\"].value_counts()"
   ]
  },
  {
   "cell_type": "code",
   "execution_count": 46,
   "metadata": {},
   "outputs": [
    {
     "data": {
      "text/plain": [
       "Coed            1821\n",
       "Not Reported      77\n",
       "Men               56\n",
       "Women             12\n",
       "Name: gender_mix, dtype: int64"
      ]
     },
     "execution_count": 46,
     "metadata": {},
     "output_type": "execute_result"
    }
   ],
   "source": [
    "merged_data.loc[merged_data[\"gender_mix\"] == \"\", \"gender_mix\"] = \"Not Reported\"\n",
    "merged_data[\"gender_mix\"].value_counts()"
   ]
  },
  {
   "cell_type": "code",
   "execution_count": null,
   "metadata": {},
   "outputs": [],
   "source": []
  }
 ],
 "metadata": {
  "kernelspec": {
   "display_name": "Python 3",
   "language": "python",
   "name": "python3"
  },
  "language_info": {
   "codemirror_mode": {
    "name": "ipython",
    "version": 3
   },
   "file_extension": ".py",
   "mimetype": "text/x-python",
   "name": "python",
   "nbconvert_exporter": "python",
   "pygments_lexer": "ipython3",
   "version": "3.7.3"
  }
 },
 "nbformat": 4,
 "nbformat_minor": 2
}
