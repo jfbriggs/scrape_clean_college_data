{
 "cells": [
  {
   "cell_type": "markdown",
   "metadata": {},
   "source": [
    "# Scraping and Cleaning High-Level College Data\n",
    "\n",
    "In this project, we'll be parsing college data from [CollegeData.com](https://www.collegedata.com/en/).  The site provides a wealth of information, based on college reporting, for prospective U.S.-based college students in an effort to help them with their decision-making process (providing data relating to areas such as financials, student population and statistics, satisfaction rates, etc).  It's a reasonably full-featured platform, overall, that provides users the ability to dive into the data, track deadlines, and find strong school matches for themselves; among other things.\n",
    "\n",
    "We'll be pulling and parsing HTML data from CollegeData's search feature, focusing on compiling the high-level data provided initially as search results by the site (versus diving into individual college pages for more granular data - certainly a candidate for a subsequent project).  Once we parse out the information we're interested in, we will organize and clean it using pandas."
   ]
  },
  {
   "cell_type": "markdown",
   "metadata": {},
   "source": [
    "## Pulling the HTML Code & Parsing The Data\n",
    "\n",
    "For the sake of expediency, avoiding possible future issues with changes to the HTML structure of CollegeData's search results page, and accounting for the fact that the search results gate some of the data based on the lack of a request verification token (normally attained through being logged in to a free account on the website); we've already saved a copy of the full HTML file (`collegedata.html`) that was pulled using Python's `requests` package.\n",
    "\n",
    "For posterity: the HTML was retrieved by sending a `GET` request to `https://www.collegedata.com/en/explore-colleges/college-search/SearchByPreference/?SearchByPreference.SearchType=1&SearchByPreference.CollegeName=*` with a request verification token included within the request headers.  Note that this URL provides nothing other than `*` as search criteria, allowing us to pull results that include all available schools in CollegeData's database.\n",
    "\n",
    "Note: Access to this data is available for free, and does not require a paid account for access."
   ]
  },
  {
   "cell_type": "markdown",
   "metadata": {},
   "source": [
    "### Opening the HTML & Initializing the Parser\n",
    "\n",
    "We'll begin by opening our HTML file and using the `BeautifulSoup` package to create an HTML parser object, which we will use to extract the data we're interested in.  We'll also import the `re` package to use in combination with BeautifulSoup in selecting target elements."
   ]
  },
  {
   "cell_type": "code",
   "execution_count": 1,
   "metadata": {},
   "outputs": [],
   "source": [
    "from bs4 import BeautifulSoup\n",
    "import re\n",
    "\n",
    "with open(\"collegedata.html\") as html_file:\n",
    "    html_data = BeautifulSoup(html_file, \"html.parser\")"
   ]
  },
  {
   "cell_type": "markdown",
   "metadata": {},
   "source": [
    "On CollegeData's search results page, results are organized into a table with 3 separate tabs of data (Vitals, Financial, and Students) and a paginated list of schools making up the table rows (see snapshot below).  The \"College Chances\" and locker icon columns are relevant to the site's services, but not to us.\n",
    "\n",
    "![Search Results Snapshot](img/collegedataresults.png)\n",
    "\n",
    "The results page indicates that, by running a search that captures all schools in CollegeData's database, we get data on 1966 schools in total.\n",
    "\n",
    "![Search Results: Total](img/searchresulttotal.png)\n",
    "\n",
    "Upon brief inspection of the HTML code, we notice that each table row element that represents a school's data contains the `data-school-id` attribute along with an ID value.  Let's parse the entire tree for every element containing this attribute."
   ]
  },
  {
   "cell_type": "code",
   "execution_count": 2,
   "metadata": {},
   "outputs": [
    {
     "data": {
      "text/plain": [
       "5898"
      ]
     },
     "execution_count": 2,
     "metadata": {},
     "output_type": "execute_result"
    }
   ],
   "source": [
    "data_by_ids = html_data.find_all(attrs={\"data-school-id\": True})\n",
    "len(data_by_ids)"
   ]
  },
  {
   "cell_type": "markdown",
   "metadata": {},
   "source": [
    "There are 5898 items contained in this collection, which suggests that each school is represented in the code 3 times.  This makes sense, given that there are 3 tabs of data in the table, but let's confirm by looking at the number of _unique_ ID values (we should expect 1966)."
   ]
  },
  {
   "cell_type": "code",
   "execution_count": 3,
   "metadata": {},
   "outputs": [
    {
     "data": {
      "text/plain": [
       "1966"
      ]
     },
     "execution_count": 3,
     "metadata": {},
     "output_type": "execute_result"
    }
   ],
   "source": [
    "ids = set([int(item[\"data-school-id\"]) for item in data_by_ids])\n",
    "len(ids)"
   ]
  },
  {
   "cell_type": "markdown",
   "metadata": {},
   "source": [
    "Upon further inspection of the HTML code, we notice that each tab appears to be represented as a distinct table entirely, each containing an element ID that uses the `colleges_table_` prefex.  Let's check how many of these there are."
   ]
  },
  {
   "cell_type": "code",
   "execution_count": 4,
   "metadata": {},
   "outputs": [
    {
     "name": "stdout",
     "output_type": "stream",
     "text": [
      "colleges_table_vitals\n",
      "colleges_table_financial\n",
      "colleges_table_students\n"
     ]
    }
   ],
   "source": [
    "data_tables = html_data.find_all(id=re.compile(\"colleges_table_\"))\n",
    "\n",
    "for table in data_tables:\n",
    "    print(table['id'])"
   ]
  },
  {
   "cell_type": "markdown",
   "metadata": {},
   "source": [
    "Confirmed: there are 3 separate tables, each with an ID beginning with `colleges_table_` and ending with the tab label.  Given this structure, we'll start out by extracting the data we want into 3 separate collections, and then combine them.\n",
    "\n",
    "### Extracting the Table Rows\n",
    "\n",
    "Let's create 3 lists to represent the row elements from each table, and populate them with the table row elements (again, each representing a school) by using the same `data-school-id` attribute we used above."
   ]
  },
  {
   "cell_type": "code",
   "execution_count": 5,
   "metadata": {},
   "outputs": [
    {
     "data": {
      "text/plain": [
       "1966"
      ]
     },
     "execution_count": 5,
     "metadata": {},
     "output_type": "execute_result"
    }
   ],
   "source": [
    "table_rows = {\n",
    "    \"vitals\": [],\n",
    "    \"financial\": [],\n",
    "    \"students\": []\n",
    "}\n",
    "\n",
    "# iterate through each table element, searching it for all elements with data-school-id attributes and saving to the appropriate list\n",
    "for table in data_tables:\n",
    "    table_name = table[\"id\"].replace(\"colleges_table_\", \"\")\n",
    "    row_elements = table.find_all(attrs={\"data-school-id\": True})\n",
    "    table_rows[table_name] = row_elements\n",
    "    \n",
    "len(table_rows[\"vitals\"]) # check the length of one of our collections, to ensure it's 1966, as expected"
   ]
  },
  {
   "cell_type": "markdown",
   "metadata": {},
   "source": [
    "### Extracting Values From Table Cells\n",
    "\n",
    "Now that we have our 3 lists of table rows, let's iterate through them and extract the individual values for each of the columns of relevant data.  We'll create a helper function to extract a cell value, which we can use for every column other than the college name and CollegeData assigned school ID value (the latter of which we'll capture now, but won't need later)."
   ]
  },
  {
   "cell_type": "code",
   "execution_count": 6,
   "metadata": {},
   "outputs": [],
   "source": [
    "# helper function: extracts text from element passed to it\n",
    "def extract_value(cell):\n",
    "    return cell.find_all(string=True)[2].strip()\n",
    "\n",
    "# extract values for the rows in all 3 tables\n",
    "table_row_values = {}\n",
    "for table in table_rows.keys():\n",
    "    table_items = []\n",
    "    for row in table_rows[table]:\n",
    "        row_data = []\n",
    "        row_cells = row.find_all(\"td\")\n",
    "        row_data.append(row_cells[0].find(href=re.compile(\"/college\")).string)\n",
    "        row_data.append(row_cells[1].find(attrs={\"data-schoolidvalue\":True})[\"data-schoolidvalue\"]) # we'll need these assigned school_id values for merging data later\n",
    "        for i in range(2, len(row_cells)):\n",
    "            row_data.append(extract_value(row_cells[i]))\n",
    "        table_items.append(row_data)\n",
    "    table_row_values[table] = table_items"
   ]
  },
  {
   "cell_type": "markdown",
   "metadata": {},
   "source": [
    "Let's check that the values for each table have been correctly extracted by examining the first row's from each."
   ]
  },
  {
   "cell_type": "code",
   "execution_count": 7,
   "metadata": {},
   "outputs": [
    {
     "name": "stdout",
     "output_type": "stream",
     "text": [
      "['West Texas A&M University', '949', 'Canyon', 'TX', '7,394', 'Pub', 'Mod', '64%', '25.2%']\n",
      "['West Texas A&M University', '949', '', '$21,426', '$23,012', '62%', '55%', '$23,670']\n",
      "['West Texas A&M University', '949', 'Coed', '0.5%', '4.9%', '1.9%', '29%', '1.8%']\n"
     ]
    }
   ],
   "source": [
    "print(table_row_values[\"vitals\"][0])\n",
    "print(table_row_values[\"financial\"][0])\n",
    "print(table_row_values[\"students\"][0])"
   ]
  },
  {
   "cell_type": "markdown",
   "metadata": {},
   "source": [
    "We've correctly extracted all of the values we're interested in.\n",
    "\n",
    "## Converting to DataFrames\n",
    "\n",
    "Now let's move on to compiling our data into pandas dataframes.  We'll start out, keeping it simple, by using the same column names as the CollegeData search results tabs (but convert them to snake-case, to conform to Python standards)."
   ]
  },
  {
   "cell_type": "code",
   "execution_count": 8,
   "metadata": {},
   "outputs": [],
   "source": [
    "import pandas as pd\n",
    "\n",
    "table_columns = {\n",
    "    \"vitals\": [\"name\", \"school_id\", \"city\", \"state\", \"size\", \"type\", \"entrance_difficulty\", \"freshman_satisfaction\", \"grad_rate\"],\n",
    "    \"financial\": [\"name\", \"school_id\", \"your_net_price\", \"resident_coa\", \"nonresident_coa\", \"need_met\", \"merit_aid\", \"student_debt\"],\n",
    "    \"students\": [\"name\", \"school_id\", \"gender_mix\", \"american_indian\", \"african_american\", \"asian_pacific_islander\", \"hispanic\", \"intl\"]\n",
    "}\n",
    "\n",
    "vitals_data = pd.DataFrame(table_row_values[\"vitals\"], columns = table_columns[\"vitals\"])\n",
    "financial_data = pd.DataFrame(table_row_values[\"financial\"], columns = table_columns[\"financial\"])\n",
    "students_data = pd.DataFrame(table_row_values[\"students\"], columns = table_columns[\"students\"])"
   ]
  },
  {
   "cell_type": "code",
   "execution_count": 9,
   "metadata": {},
   "outputs": [
    {
     "data": {
      "text/html": [
       "<div>\n",
       "<style scoped>\n",
       "    .dataframe tbody tr th:only-of-type {\n",
       "        vertical-align: middle;\n",
       "    }\n",
       "\n",
       "    .dataframe tbody tr th {\n",
       "        vertical-align: top;\n",
       "    }\n",
       "\n",
       "    .dataframe thead th {\n",
       "        text-align: right;\n",
       "    }\n",
       "</style>\n",
       "<table border=\"1\" class=\"dataframe\">\n",
       "  <thead>\n",
       "    <tr style=\"text-align: right;\">\n",
       "      <th></th>\n",
       "      <th>name</th>\n",
       "      <th>school_id</th>\n",
       "      <th>city</th>\n",
       "      <th>state</th>\n",
       "      <th>size</th>\n",
       "      <th>type</th>\n",
       "      <th>entrance_difficulty</th>\n",
       "      <th>freshman_satisfaction</th>\n",
       "      <th>grad_rate</th>\n",
       "    </tr>\n",
       "  </thead>\n",
       "  <tbody>\n",
       "    <tr>\n",
       "      <th>0</th>\n",
       "      <td>West Texas A&amp;M University</td>\n",
       "      <td>949</td>\n",
       "      <td>Canyon</td>\n",
       "      <td>TX</td>\n",
       "      <td>7,394</td>\n",
       "      <td>Pub</td>\n",
       "      <td>Mod</td>\n",
       "      <td>64%</td>\n",
       "      <td>25.2%</td>\n",
       "    </tr>\n",
       "    <tr>\n",
       "      <th>1</th>\n",
       "      <td>Rose-Hulman Institute of Technology</td>\n",
       "      <td>883</td>\n",
       "      <td>Terre Haute</td>\n",
       "      <td>IN</td>\n",
       "      <td>2,168</td>\n",
       "      <td>Priv</td>\n",
       "      <td>Very</td>\n",
       "      <td>91.2%</td>\n",
       "      <td>66.5%</td>\n",
       "    </tr>\n",
       "    <tr>\n",
       "      <th>2</th>\n",
       "      <td>Dominican College</td>\n",
       "      <td>886</td>\n",
       "      <td>Orangeburg</td>\n",
       "      <td>NY</td>\n",
       "      <td>1,425</td>\n",
       "      <td>Priv</td>\n",
       "      <td>Non</td>\n",
       "      <td>74%</td>\n",
       "      <td>28.7%</td>\n",
       "    </tr>\n",
       "    <tr>\n",
       "      <th>3</th>\n",
       "      <td>University of Puget Sound</td>\n",
       "      <td>859</td>\n",
       "      <td>Tacoma</td>\n",
       "      <td>WA</td>\n",
       "      <td>2,364</td>\n",
       "      <td>Priv</td>\n",
       "      <td>Mod</td>\n",
       "      <td>80.7%</td>\n",
       "      <td>65.8%</td>\n",
       "    </tr>\n",
       "    <tr>\n",
       "      <th>4</th>\n",
       "      <td>Champlain College</td>\n",
       "      <td>1270</td>\n",
       "      <td>Burlington</td>\n",
       "      <td>VT</td>\n",
       "      <td>2,129</td>\n",
       "      <td>Priv</td>\n",
       "      <td>Mod</td>\n",
       "      <td>78%</td>\n",
       "      <td>53.9%</td>\n",
       "    </tr>\n",
       "  </tbody>\n",
       "</table>\n",
       "</div>"
      ],
      "text/plain": [
       "                                  name school_id         city state   size  \\\n",
       "0            West Texas A&M University       949       Canyon    TX  7,394   \n",
       "1  Rose-Hulman Institute of Technology       883  Terre Haute    IN  2,168   \n",
       "2                    Dominican College       886   Orangeburg    NY  1,425   \n",
       "3            University of Puget Sound       859       Tacoma    WA  2,364   \n",
       "4                    Champlain College      1270   Burlington    VT  2,129   \n",
       "\n",
       "   type entrance_difficulty freshman_satisfaction grad_rate  \n",
       "0   Pub                 Mod                   64%     25.2%  \n",
       "1  Priv                Very                 91.2%     66.5%  \n",
       "2  Priv                 Non                   74%     28.7%  \n",
       "3  Priv                 Mod                 80.7%     65.8%  \n",
       "4  Priv                 Mod                   78%     53.9%  "
      ]
     },
     "execution_count": 9,
     "metadata": {},
     "output_type": "execute_result"
    }
   ],
   "source": [
    "vitals_data.head()"
   ]
  },
  {
   "cell_type": "code",
   "execution_count": 10,
   "metadata": {},
   "outputs": [
    {
     "data": {
      "text/html": [
       "<div>\n",
       "<style scoped>\n",
       "    .dataframe tbody tr th:only-of-type {\n",
       "        vertical-align: middle;\n",
       "    }\n",
       "\n",
       "    .dataframe tbody tr th {\n",
       "        vertical-align: top;\n",
       "    }\n",
       "\n",
       "    .dataframe thead th {\n",
       "        text-align: right;\n",
       "    }\n",
       "</style>\n",
       "<table border=\"1\" class=\"dataframe\">\n",
       "  <thead>\n",
       "    <tr style=\"text-align: right;\">\n",
       "      <th></th>\n",
       "      <th>name</th>\n",
       "      <th>school_id</th>\n",
       "      <th>your_net_price</th>\n",
       "      <th>resident_coa</th>\n",
       "      <th>nonresident_coa</th>\n",
       "      <th>need_met</th>\n",
       "      <th>merit_aid</th>\n",
       "      <th>student_debt</th>\n",
       "    </tr>\n",
       "  </thead>\n",
       "  <tbody>\n",
       "    <tr>\n",
       "      <th>0</th>\n",
       "      <td>West Texas A&amp;M University</td>\n",
       "      <td>949</td>\n",
       "      <td></td>\n",
       "      <td>$21,426</td>\n",
       "      <td>$23,012</td>\n",
       "      <td>62%</td>\n",
       "      <td>55%</td>\n",
       "      <td>$23,670</td>\n",
       "    </tr>\n",
       "    <tr>\n",
       "      <th>1</th>\n",
       "      <td>Rose-Hulman Institute of Technology</td>\n",
       "      <td>883</td>\n",
       "      <td></td>\n",
       "      <td>$70,401</td>\n",
       "      <td>$70,401</td>\n",
       "      <td>Not reported</td>\n",
       "      <td>Not Reported</td>\n",
       "      <td>$45,345</td>\n",
       "    </tr>\n",
       "    <tr>\n",
       "      <th>2</th>\n",
       "      <td>Dominican College</td>\n",
       "      <td>886</td>\n",
       "      <td></td>\n",
       "      <td>$46,600</td>\n",
       "      <td>$46,600</td>\n",
       "      <td>71%</td>\n",
       "      <td>17%</td>\n",
       "      <td>$32,527</td>\n",
       "    </tr>\n",
       "    <tr>\n",
       "      <th>3</th>\n",
       "      <td>University of Puget Sound</td>\n",
       "      <td>859</td>\n",
       "      <td></td>\n",
       "      <td>$68,146</td>\n",
       "      <td>$68,146</td>\n",
       "      <td>78%</td>\n",
       "      <td>44%</td>\n",
       "      <td>$32,999</td>\n",
       "    </tr>\n",
       "    <tr>\n",
       "      <th>4</th>\n",
       "      <td>Champlain College</td>\n",
       "      <td>1270</td>\n",
       "      <td></td>\n",
       "      <td>$61,012</td>\n",
       "      <td>$61,012</td>\n",
       "      <td>71%</td>\n",
       "      <td>22%</td>\n",
       "      <td>$35,383</td>\n",
       "    </tr>\n",
       "  </tbody>\n",
       "</table>\n",
       "</div>"
      ],
      "text/plain": [
       "                                  name school_id your_net_price resident_coa  \\\n",
       "0            West Texas A&M University       949                     $21,426   \n",
       "1  Rose-Hulman Institute of Technology       883                     $70,401   \n",
       "2                    Dominican College       886                     $46,600   \n",
       "3            University of Puget Sound       859                     $68,146   \n",
       "4                    Champlain College      1270                     $61,012   \n",
       "\n",
       "  nonresident_coa      need_met     merit_aid student_debt  \n",
       "0         $23,012           62%           55%      $23,670  \n",
       "1         $70,401  Not reported  Not Reported      $45,345  \n",
       "2         $46,600           71%           17%      $32,527  \n",
       "3         $68,146           78%           44%      $32,999  \n",
       "4         $61,012           71%           22%      $35,383  "
      ]
     },
     "execution_count": 10,
     "metadata": {},
     "output_type": "execute_result"
    }
   ],
   "source": [
    "financial_data.head()"
   ]
  },
  {
   "cell_type": "code",
   "execution_count": 11,
   "metadata": {},
   "outputs": [
    {
     "data": {
      "text/html": [
       "<div>\n",
       "<style scoped>\n",
       "    .dataframe tbody tr th:only-of-type {\n",
       "        vertical-align: middle;\n",
       "    }\n",
       "\n",
       "    .dataframe tbody tr th {\n",
       "        vertical-align: top;\n",
       "    }\n",
       "\n",
       "    .dataframe thead th {\n",
       "        text-align: right;\n",
       "    }\n",
       "</style>\n",
       "<table border=\"1\" class=\"dataframe\">\n",
       "  <thead>\n",
       "    <tr style=\"text-align: right;\">\n",
       "      <th></th>\n",
       "      <th>name</th>\n",
       "      <th>school_id</th>\n",
       "      <th>gender_mix</th>\n",
       "      <th>american_indian</th>\n",
       "      <th>african_american</th>\n",
       "      <th>asian_pacific_islander</th>\n",
       "      <th>hispanic</th>\n",
       "      <th>intl</th>\n",
       "    </tr>\n",
       "  </thead>\n",
       "  <tbody>\n",
       "    <tr>\n",
       "      <th>0</th>\n",
       "      <td>West Texas A&amp;M University</td>\n",
       "      <td>949</td>\n",
       "      <td>Coed</td>\n",
       "      <td>0.5%</td>\n",
       "      <td>4.9%</td>\n",
       "      <td>1.9%</td>\n",
       "      <td>29%</td>\n",
       "      <td>1.8%</td>\n",
       "    </tr>\n",
       "    <tr>\n",
       "      <th>1</th>\n",
       "      <td>Rose-Hulman Institute of Technology</td>\n",
       "      <td>883</td>\n",
       "      <td></td>\n",
       "      <td>0.2%</td>\n",
       "      <td>3.2%</td>\n",
       "      <td>6.1%</td>\n",
       "      <td>5.3%</td>\n",
       "      <td>14.6%</td>\n",
       "    </tr>\n",
       "    <tr>\n",
       "      <th>2</th>\n",
       "      <td>Dominican College</td>\n",
       "      <td>886</td>\n",
       "      <td>Coed</td>\n",
       "      <td>0%</td>\n",
       "      <td>15.2%</td>\n",
       "      <td>6.8%</td>\n",
       "      <td>30.8%</td>\n",
       "      <td>1.4%</td>\n",
       "    </tr>\n",
       "    <tr>\n",
       "      <th>3</th>\n",
       "      <td>University of Puget Sound</td>\n",
       "      <td>859</td>\n",
       "      <td>Coed</td>\n",
       "      <td>0.1%</td>\n",
       "      <td>1.8%</td>\n",
       "      <td>7%</td>\n",
       "      <td>8.8%</td>\n",
       "      <td>0.4%</td>\n",
       "    </tr>\n",
       "    <tr>\n",
       "      <th>4</th>\n",
       "      <td>Champlain College</td>\n",
       "      <td>1270</td>\n",
       "      <td>Coed</td>\n",
       "      <td>0.2%</td>\n",
       "      <td>2.7%</td>\n",
       "      <td>3%</td>\n",
       "      <td>6.7%</td>\n",
       "      <td>0.8%</td>\n",
       "    </tr>\n",
       "  </tbody>\n",
       "</table>\n",
       "</div>"
      ],
      "text/plain": [
       "                                  name school_id gender_mix american_indian  \\\n",
       "0            West Texas A&M University       949       Coed            0.5%   \n",
       "1  Rose-Hulman Institute of Technology       883                       0.2%   \n",
       "2                    Dominican College       886       Coed              0%   \n",
       "3            University of Puget Sound       859       Coed            0.1%   \n",
       "4                    Champlain College      1270       Coed            0.2%   \n",
       "\n",
       "  african_american asian_pacific_islander hispanic   intl  \n",
       "0             4.9%                   1.9%      29%   1.8%  \n",
       "1             3.2%                   6.1%     5.3%  14.6%  \n",
       "2            15.2%                   6.8%    30.8%   1.4%  \n",
       "3             1.8%                     7%     8.8%   0.4%  \n",
       "4             2.7%                     3%     6.7%   0.8%  "
      ]
     },
     "execution_count": 11,
     "metadata": {},
     "output_type": "execute_result"
    }
   ],
   "source": [
    "students_data.head()"
   ]
  },
  {
   "cell_type": "markdown",
   "metadata": {},
   "source": [
    "### Merging the Data\n",
    "\n",
    "Now that we've created our 3 separate dataframes, we can merge them into one.  Because all schools are represented in each of the 3 dataframes, we can confidently use an inner join.  We'll also merge on both the `school_id` and `name` values, since not only do both exist in all 3 dataframes, but it allows us to avoid any column duplication."
   ]
  },
  {
   "cell_type": "code",
   "execution_count": 12,
   "metadata": {},
   "outputs": [
    {
     "data": {
      "text/html": [
       "<div>\n",
       "<style scoped>\n",
       "    .dataframe tbody tr th:only-of-type {\n",
       "        vertical-align: middle;\n",
       "    }\n",
       "\n",
       "    .dataframe tbody tr th {\n",
       "        vertical-align: top;\n",
       "    }\n",
       "\n",
       "    .dataframe thead th {\n",
       "        text-align: right;\n",
       "    }\n",
       "</style>\n",
       "<table border=\"1\" class=\"dataframe\">\n",
       "  <thead>\n",
       "    <tr style=\"text-align: right;\">\n",
       "      <th></th>\n",
       "      <th>name</th>\n",
       "      <th>school_id</th>\n",
       "      <th>city</th>\n",
       "      <th>state</th>\n",
       "      <th>size</th>\n",
       "      <th>type</th>\n",
       "      <th>entrance_difficulty</th>\n",
       "      <th>freshman_satisfaction</th>\n",
       "      <th>grad_rate</th>\n",
       "      <th>your_net_price</th>\n",
       "      <th>...</th>\n",
       "      <th>nonresident_coa</th>\n",
       "      <th>need_met</th>\n",
       "      <th>merit_aid</th>\n",
       "      <th>student_debt</th>\n",
       "      <th>gender_mix</th>\n",
       "      <th>american_indian</th>\n",
       "      <th>african_american</th>\n",
       "      <th>asian_pacific_islander</th>\n",
       "      <th>hispanic</th>\n",
       "      <th>intl</th>\n",
       "    </tr>\n",
       "  </thead>\n",
       "  <tbody>\n",
       "    <tr>\n",
       "      <th>0</th>\n",
       "      <td>West Texas A&amp;M University</td>\n",
       "      <td>949</td>\n",
       "      <td>Canyon</td>\n",
       "      <td>TX</td>\n",
       "      <td>7,394</td>\n",
       "      <td>Pub</td>\n",
       "      <td>Mod</td>\n",
       "      <td>64%</td>\n",
       "      <td>25.2%</td>\n",
       "      <td></td>\n",
       "      <td>...</td>\n",
       "      <td>$23,012</td>\n",
       "      <td>62%</td>\n",
       "      <td>55%</td>\n",
       "      <td>$23,670</td>\n",
       "      <td>Coed</td>\n",
       "      <td>0.5%</td>\n",
       "      <td>4.9%</td>\n",
       "      <td>1.9%</td>\n",
       "      <td>29%</td>\n",
       "      <td>1.8%</td>\n",
       "    </tr>\n",
       "    <tr>\n",
       "      <th>1</th>\n",
       "      <td>Rose-Hulman Institute of Technology</td>\n",
       "      <td>883</td>\n",
       "      <td>Terre Haute</td>\n",
       "      <td>IN</td>\n",
       "      <td>2,168</td>\n",
       "      <td>Priv</td>\n",
       "      <td>Very</td>\n",
       "      <td>91.2%</td>\n",
       "      <td>66.5%</td>\n",
       "      <td></td>\n",
       "      <td>...</td>\n",
       "      <td>$70,401</td>\n",
       "      <td>Not reported</td>\n",
       "      <td>Not Reported</td>\n",
       "      <td>$45,345</td>\n",
       "      <td></td>\n",
       "      <td>0.2%</td>\n",
       "      <td>3.2%</td>\n",
       "      <td>6.1%</td>\n",
       "      <td>5.3%</td>\n",
       "      <td>14.6%</td>\n",
       "    </tr>\n",
       "    <tr>\n",
       "      <th>2</th>\n",
       "      <td>Dominican College</td>\n",
       "      <td>886</td>\n",
       "      <td>Orangeburg</td>\n",
       "      <td>NY</td>\n",
       "      <td>1,425</td>\n",
       "      <td>Priv</td>\n",
       "      <td>Non</td>\n",
       "      <td>74%</td>\n",
       "      <td>28.7%</td>\n",
       "      <td></td>\n",
       "      <td>...</td>\n",
       "      <td>$46,600</td>\n",
       "      <td>71%</td>\n",
       "      <td>17%</td>\n",
       "      <td>$32,527</td>\n",
       "      <td>Coed</td>\n",
       "      <td>0%</td>\n",
       "      <td>15.2%</td>\n",
       "      <td>6.8%</td>\n",
       "      <td>30.8%</td>\n",
       "      <td>1.4%</td>\n",
       "    </tr>\n",
       "    <tr>\n",
       "      <th>3</th>\n",
       "      <td>University of Puget Sound</td>\n",
       "      <td>859</td>\n",
       "      <td>Tacoma</td>\n",
       "      <td>WA</td>\n",
       "      <td>2,364</td>\n",
       "      <td>Priv</td>\n",
       "      <td>Mod</td>\n",
       "      <td>80.7%</td>\n",
       "      <td>65.8%</td>\n",
       "      <td></td>\n",
       "      <td>...</td>\n",
       "      <td>$68,146</td>\n",
       "      <td>78%</td>\n",
       "      <td>44%</td>\n",
       "      <td>$32,999</td>\n",
       "      <td>Coed</td>\n",
       "      <td>0.1%</td>\n",
       "      <td>1.8%</td>\n",
       "      <td>7%</td>\n",
       "      <td>8.8%</td>\n",
       "      <td>0.4%</td>\n",
       "    </tr>\n",
       "    <tr>\n",
       "      <th>4</th>\n",
       "      <td>Champlain College</td>\n",
       "      <td>1270</td>\n",
       "      <td>Burlington</td>\n",
       "      <td>VT</td>\n",
       "      <td>2,129</td>\n",
       "      <td>Priv</td>\n",
       "      <td>Mod</td>\n",
       "      <td>78%</td>\n",
       "      <td>53.9%</td>\n",
       "      <td></td>\n",
       "      <td>...</td>\n",
       "      <td>$61,012</td>\n",
       "      <td>71%</td>\n",
       "      <td>22%</td>\n",
       "      <td>$35,383</td>\n",
       "      <td>Coed</td>\n",
       "      <td>0.2%</td>\n",
       "      <td>2.7%</td>\n",
       "      <td>3%</td>\n",
       "      <td>6.7%</td>\n",
       "      <td>0.8%</td>\n",
       "    </tr>\n",
       "  </tbody>\n",
       "</table>\n",
       "<p>5 rows × 21 columns</p>\n",
       "</div>"
      ],
      "text/plain": [
       "                                  name school_id         city state   size  \\\n",
       "0            West Texas A&M University       949       Canyon    TX  7,394   \n",
       "1  Rose-Hulman Institute of Technology       883  Terre Haute    IN  2,168   \n",
       "2                    Dominican College       886   Orangeburg    NY  1,425   \n",
       "3            University of Puget Sound       859       Tacoma    WA  2,364   \n",
       "4                    Champlain College      1270   Burlington    VT  2,129   \n",
       "\n",
       "   type entrance_difficulty freshman_satisfaction grad_rate your_net_price  \\\n",
       "0   Pub                 Mod                   64%     25.2%                  \n",
       "1  Priv                Very                 91.2%     66.5%                  \n",
       "2  Priv                 Non                   74%     28.7%                  \n",
       "3  Priv                 Mod                 80.7%     65.8%                  \n",
       "4  Priv                 Mod                   78%     53.9%                  \n",
       "\n",
       "   ... nonresident_coa      need_met     merit_aid student_debt gender_mix  \\\n",
       "0  ...         $23,012           62%           55%      $23,670       Coed   \n",
       "1  ...         $70,401  Not reported  Not Reported      $45,345              \n",
       "2  ...         $46,600           71%           17%      $32,527       Coed   \n",
       "3  ...         $68,146           78%           44%      $32,999       Coed   \n",
       "4  ...         $61,012           71%           22%      $35,383       Coed   \n",
       "\n",
       "  american_indian african_american asian_pacific_islander hispanic   intl  \n",
       "0            0.5%             4.9%                   1.9%      29%   1.8%  \n",
       "1            0.2%             3.2%                   6.1%     5.3%  14.6%  \n",
       "2              0%            15.2%                   6.8%    30.8%   1.4%  \n",
       "3            0.1%             1.8%                     7%     8.8%   0.4%  \n",
       "4            0.2%             2.7%                     3%     6.7%   0.8%  \n",
       "\n",
       "[5 rows x 21 columns]"
      ]
     },
     "execution_count": 12,
     "metadata": {},
     "output_type": "execute_result"
    }
   ],
   "source": [
    "merged_data = vitals_data.merge(financial_data, how=\"inner\", on=[\"name\", \"school_id\"])\n",
    "merged_data = merged_data.merge(students_data, how=\"inner\", on=[\"name\", \"school_id\"])\n",
    "\n",
    "merged_data.head()"
   ]
  },
  {
   "cell_type": "code",
   "execution_count": 13,
   "metadata": {},
   "outputs": [
    {
     "name": "stdout",
     "output_type": "stream",
     "text": [
      "<class 'pandas.core.frame.DataFrame'>\n",
      "Int64Index: 1966 entries, 0 to 1965\n",
      "Data columns (total 21 columns):\n",
      "name                      1966 non-null object\n",
      "school_id                 1966 non-null object\n",
      "city                      1966 non-null object\n",
      "state                     1966 non-null object\n",
      "size                      1966 non-null object\n",
      "type                      1966 non-null object\n",
      "entrance_difficulty       1966 non-null object\n",
      "freshman_satisfaction     1966 non-null object\n",
      "grad_rate                 1966 non-null object\n",
      "your_net_price            1966 non-null object\n",
      "resident_coa              1966 non-null object\n",
      "nonresident_coa           1966 non-null object\n",
      "need_met                  1966 non-null object\n",
      "merit_aid                 1966 non-null object\n",
      "student_debt              1966 non-null object\n",
      "gender_mix                1966 non-null object\n",
      "american_indian           1966 non-null object\n",
      "african_american          1966 non-null object\n",
      "asian_pacific_islander    1966 non-null object\n",
      "hispanic                  1966 non-null object\n",
      "intl                      1966 non-null object\n",
      "dtypes: object(21)\n",
      "memory usage: 337.9+ KB\n"
     ]
    }
   ],
   "source": [
    "merged_data.info()"
   ]
  },
  {
   "cell_type": "markdown",
   "metadata": {},
   "source": [
    "We've successfully merged our data into one dataframe.\n",
    "\n",
    "It appears that there are no missing values anywhere, and that every column contains string values - we'll come back to this a little later."
   ]
  },
  {
   "cell_type": "markdown",
   "metadata": {},
   "source": [
    "## Cleaning the Data\n",
    "\n",
    "### Removing Irrelevant Columns\n",
    "\n",
    "There are two columns that now stand out as unnecessary at this point: `school_id` (ID values assigned by CollegeData) and `your_net_price` (a financial calculation column only used as part of CollegeData's services).  Let's drop them."
   ]
  },
  {
   "cell_type": "code",
   "execution_count": 14,
   "metadata": {},
   "outputs": [],
   "source": [
    "merged_data = merged_data.drop([\"your_net_price\", \"school_id\"], axis = 1)"
   ]
  },
  {
   "cell_type": "markdown",
   "metadata": {},
   "source": [
    "### Adjusting Column Names\n",
    "\n",
    "Let's modify a few column names for clarity."
   ]
  },
  {
   "cell_type": "code",
   "execution_count": 15,
   "metadata": {},
   "outputs": [
    {
     "data": {
      "text/plain": [
       "Index(['name', 'city', 'state', 'n_students', 'type', 'acceptance_difficulty',\n",
       "       'freshman_satisfaction', 'grad_rate', 'resident_cost',\n",
       "       'nonresident_cost', 'need_met', 'merit_aid', 'avg_grad_debt',\n",
       "       'gender_mix', 'pct_american_indian', 'pct_african_american',\n",
       "       'pct_asian_pacific_islander', 'pct_hispanic', 'pct_international'],\n",
       "      dtype='object')"
      ]
     },
     "execution_count": 15,
     "metadata": {},
     "output_type": "execute_result"
    }
   ],
   "source": [
    "merged_data.rename(columns={\n",
    "    \"size\": \"n_students\",\n",
    "    \"entrance_difficulty\": \"acceptance_difficulty\",\n",
    "    \"resident_coa\": \"resident_cost\",\n",
    "    \"nonresident_coa\": \"nonresident_cost\",\n",
    "    \"student_debt\": \"avg_grad_debt\",\n",
    "    \"american_indian\": \"pct_american_indian\",\n",
    "    \"african_american\": \"pct_african_american\",\n",
    "    \"asian_pacific_islander\": \"pct_asian_pacific_islander\",\n",
    "    \"hispanic\": \"pct_hispanic\",\n",
    "    \"intl\": \"pct_international\"\n",
    "}, inplace=True)\n",
    "\n",
    "merged_data.columns"
   ]
  },
  {
   "cell_type": "markdown",
   "metadata": {},
   "source": [
    "### Handling Missing Values\n",
    "\n",
    "As was observed earlier, on first glance, it appears that our dataset contains no missing values.  However, given that our data originated from parsing HTML, it is all in string form.  Thus, missing values could still exist, such as in the form of an empty string.  From browsing through the original search results on the CollegeData.com website, we know that some schools were missing data, and the missing values were represented in a few different ways.\n",
    "\n",
    "To start, let's look into how many empty strings exist for each of our columns."
   ]
  },
  {
   "cell_type": "code",
   "execution_count": 16,
   "metadata": {},
   "outputs": [
    {
     "name": "stdout",
     "output_type": "stream",
     "text": [
      "Empty strings in name: 0\n",
      "Empty strings in city: 0\n",
      "Empty strings in state: 0\n",
      "Empty strings in n_students: 0\n",
      "Empty strings in type: 7\n",
      "Empty strings in acceptance_difficulty: 180\n",
      "Empty strings in freshman_satisfaction: 0\n",
      "Empty strings in grad_rate: 0\n",
      "Empty strings in resident_cost: 0\n",
      "Empty strings in nonresident_cost: 0\n",
      "Empty strings in need_met: 0\n",
      "Empty strings in merit_aid: 0\n",
      "Empty strings in avg_grad_debt: 0\n",
      "Empty strings in gender_mix: 77\n",
      "Empty strings in pct_american_indian: 0\n",
      "Empty strings in pct_african_american: 0\n",
      "Empty strings in pct_asian_pacific_islander: 0\n",
      "Empty strings in pct_hispanic: 0\n",
      "Empty strings in pct_international: 0\n"
     ]
    }
   ],
   "source": [
    "for col in merged_data.columns:\n",
    "    print(\"Empty strings in \" + col + \":\", len(merged_data[merged_data[col] == \"\"]))"
   ]
  },
  {
   "cell_type": "markdown",
   "metadata": {},
   "source": [
    "We see that the columns `type` (7), `acceptance_difficulty` (180), and `gender` (77) each contain missing (empty string) values.  To fix that, we'll replace the empty strings with `Not Reported`, to stay consistent with other existing entries in the data."
   ]
  },
  {
   "cell_type": "code",
   "execution_count": 17,
   "metadata": {},
   "outputs": [
    {
     "data": {
      "text/plain": [
       "Priv            1193\n",
       "Pub              594\n",
       "Proft            172\n",
       "Not Reported       7\n",
       "Name: type, dtype: int64"
      ]
     },
     "execution_count": 17,
     "metadata": {},
     "output_type": "execute_result"
    }
   ],
   "source": [
    "merged_data.loc[merged_data[\"type\"] == \"\", \"type\"] = \"Not Reported\"\n",
    "merged_data[\"type\"].value_counts()"
   ]
  },
  {
   "cell_type": "code",
   "execution_count": 18,
   "metadata": {},
   "outputs": [
    {
     "data": {
      "text/plain": [
       "Mod             1078\n",
       "Min              317\n",
       "Not Reported     180\n",
       "Non              175\n",
       "Very             157\n",
       "Most              59\n",
       "Name: acceptance_difficulty, dtype: int64"
      ]
     },
     "execution_count": 18,
     "metadata": {},
     "output_type": "execute_result"
    }
   ],
   "source": [
    "merged_data.loc[merged_data[\"acceptance_difficulty\"] == \"\", \"acceptance_difficulty\"] = \"Not Reported\"\n",
    "merged_data[\"acceptance_difficulty\"].value_counts()"
   ]
  },
  {
   "cell_type": "code",
   "execution_count": 19,
   "metadata": {},
   "outputs": [
    {
     "data": {
      "text/plain": [
       "Coed            1821\n",
       "Not Reported      77\n",
       "Men               56\n",
       "Women             12\n",
       "Name: gender_mix, dtype: int64"
      ]
     },
     "execution_count": 19,
     "metadata": {},
     "output_type": "execute_result"
    }
   ],
   "source": [
    "merged_data.loc[merged_data[\"gender_mix\"] == \"\", \"gender_mix\"] = \"Not Reported\"\n",
    "merged_data[\"gender_mix\"].value_counts()"
   ]
  },
  {
   "cell_type": "markdown",
   "metadata": {},
   "source": [
    "There are a few columns containing values that should be numeric (totals and percentages), including: `n_students`, `freshman_satisfaction`, `grad_rate`, `resident_cost`, `nonresident_cost`, `need_met`, `merit_aid`, `avg_grad_debt`, and the minority percentage columns.  These columns also appear to have missing values.\n",
    "\n",
    "It appears that \"Not Reported\" (with varying capitalization) or a hypen (\"-\") are what are used in any case where a value in one of these columns is missing.  Let's take a look at how many there are."
   ]
  },
  {
   "cell_type": "code",
   "execution_count": 20,
   "metadata": {},
   "outputs": [
    {
     "name": "stdout",
     "output_type": "stream",
     "text": [
      "n_students - Not Reported: 82\n",
      "n_students - Hyphen:0\n",
      "freshman_satisfaction - Not Reported: 343\n",
      "freshman_satisfaction - Hyphen:0\n",
      "grad_rate - Not Reported: 534\n",
      "grad_rate - Hyphen:0\n",
      "resident_cost - Not Reported: 0\n",
      "resident_cost - Hyphen:556\n",
      "nonresident_cost - Not Reported: 0\n",
      "nonresident_cost - Hyphen:553\n",
      "need_met - Not Reported: 529\n",
      "need_met - Hyphen:0\n",
      "merit_aid - Not Reported: 550\n",
      "merit_aid - Hyphen:0\n",
      "avg_grad_debt - Not Reported: 0\n",
      "avg_grad_debt - Hyphen:572\n",
      "pct_american_indian - Not Reported: 349\n",
      "pct_american_indian - Hyphen:0\n",
      "pct_african_american - Not Reported: 328\n",
      "pct_african_american - Hyphen:0\n",
      "pct_asian_pacific_islander - Not Reported: 358\n",
      "pct_asian_pacific_islander - Hyphen:0\n",
      "pct_hispanic - Not Reported: 317\n",
      "pct_hispanic - Hyphen:0\n",
      "pct_international - Not Reported: 355\n",
      "pct_international - Hyphen:0\n"
     ]
    }
   ],
   "source": [
    "numeric_cols = [\"n_students\", \"freshman_satisfaction\", \"grad_rate\", \"resident_cost\", \"nonresident_cost\", \"need_met\", \"merit_aid\", \"avg_grad_debt\", \"pct_american_indian\", \"pct_african_american\", \"pct_asian_pacific_islander\", \"pct_hispanic\", \"pct_international\"]\n",
    "\n",
    "for col in numeric_cols:\n",
    "    merged_data[col] = merged_data[col].str.lower()\n",
    "    print(col + \" - Not Reported: \" + str(len(merged_data[(merged_data[col] == \"not reported\")])))\n",
    "    print(col + \" - Hyphen:\" + str(len(merged_data[(merged_data[col] == \"-\")])))"
   ]
  },
  {
   "cell_type": "markdown",
   "metadata": {},
   "source": [
    "We can see that although `n_students` only has 82 entries with missing values, the rest of the numeric columns all have at least 300 missing (and, in some cases, over 500); attributable to the schools not reporting those data points.  For now, since we're simply compiling a dataset and not performing a subsequent analysis, we'll use a replacement value (in this case, `NaN`) to indicate an unknown while still allowing for these columns to be converted to numeric types.\n",
    "\n",
    "If using this dataset for an analysis, one would then want to make a determination of what to do regarding missing values (perhaps drop the 82 entries missing an \"n_students\" value, while taking a different action for columns where missing values make up a much greater percentage; depending on the goal of the analysis.)  We'll follow up by filtering down to and exporting an additional dataset containing no missing values, as well."
   ]
  },
  {
   "cell_type": "code",
   "execution_count": 21,
   "metadata": {},
   "outputs": [],
   "source": [
    "import numpy as np\n",
    "\n",
    "merged_data[numeric_cols] = merged_data[numeric_cols].replace(\"not reported\", np.nan).replace(\"-\", np.nan)"
   ]
  },
  {
   "cell_type": "markdown",
   "metadata": {},
   "source": [
    "### Adjusting Data Types\n",
    "\n",
    "Now we can convert our numeric columns to actual numeric values (versus strings, which they currently are due to originating from being parsed from HTML).  First, let's remove the non-numeric characters."
   ]
  },
  {
   "cell_type": "code",
   "execution_count": 22,
   "metadata": {},
   "outputs": [],
   "source": [
    "merged_data[numeric_cols] = merged_data[numeric_cols].apply(lambda col: col.str.replace(\"[\\$\\,\\%]\", \"\"), axis = 0)"
   ]
  },
  {
   "cell_type": "markdown",
   "metadata": {},
   "source": [
    "This does leave us with a few entries in the `avg_grad_debt` column that now contain empty strings (because, initially, they contained unreported values, and were simply represented as `$`)."
   ]
  },
  {
   "cell_type": "code",
   "execution_count": 23,
   "metadata": {},
   "outputs": [
    {
     "data": {
      "text/plain": [
       "5"
      ]
     },
     "execution_count": 23,
     "metadata": {},
     "output_type": "execute_result"
    }
   ],
   "source": [
    "len(merged_data[merged_data[\"avg_grad_debt\"] == \"\"])"
   ]
  },
  {
   "cell_type": "markdown",
   "metadata": {},
   "source": [
    "Let's fix that, and replace these values with `NaN` as well."
   ]
  },
  {
   "cell_type": "code",
   "execution_count": 24,
   "metadata": {},
   "outputs": [],
   "source": [
    "merged_data.loc[merged_data[\"avg_grad_debt\"] == \"\", \"avg_grad_debt\"] = np.nan"
   ]
  },
  {
   "cell_type": "markdown",
   "metadata": {},
   "source": [
    "Now we can adjust data types for these columns.  For simplicity's sake, we'll use the `float` data type so that we can successfully convert columns containing `NaN` values.  We'll also wrap up data type conversion by converting the values that represent percentages to decimal form."
   ]
  },
  {
   "cell_type": "code",
   "execution_count": 25,
   "metadata": {},
   "outputs": [
    {
     "data": {
      "text/html": [
       "<div>\n",
       "<style scoped>\n",
       "    .dataframe tbody tr th:only-of-type {\n",
       "        vertical-align: middle;\n",
       "    }\n",
       "\n",
       "    .dataframe tbody tr th {\n",
       "        vertical-align: top;\n",
       "    }\n",
       "\n",
       "    .dataframe thead th {\n",
       "        text-align: right;\n",
       "    }\n",
       "</style>\n",
       "<table border=\"1\" class=\"dataframe\">\n",
       "  <thead>\n",
       "    <tr style=\"text-align: right;\">\n",
       "      <th></th>\n",
       "      <th>n_students</th>\n",
       "      <th>freshman_satisfaction</th>\n",
       "      <th>grad_rate</th>\n",
       "      <th>resident_cost</th>\n",
       "      <th>nonresident_cost</th>\n",
       "      <th>need_met</th>\n",
       "      <th>merit_aid</th>\n",
       "      <th>avg_grad_debt</th>\n",
       "      <th>pct_american_indian</th>\n",
       "      <th>pct_african_american</th>\n",
       "      <th>pct_asian_pacific_islander</th>\n",
       "      <th>pct_hispanic</th>\n",
       "      <th>pct_international</th>\n",
       "    </tr>\n",
       "  </thead>\n",
       "  <tbody>\n",
       "    <tr>\n",
       "      <th>0</th>\n",
       "      <td>7394.0</td>\n",
       "      <td>0.640</td>\n",
       "      <td>0.252</td>\n",
       "      <td>21426.0</td>\n",
       "      <td>23012.0</td>\n",
       "      <td>0.62</td>\n",
       "      <td>0.55</td>\n",
       "      <td>23670.0</td>\n",
       "      <td>0.005</td>\n",
       "      <td>0.049</td>\n",
       "      <td>0.019</td>\n",
       "      <td>0.290</td>\n",
       "      <td>0.018</td>\n",
       "    </tr>\n",
       "    <tr>\n",
       "      <th>1</th>\n",
       "      <td>2168.0</td>\n",
       "      <td>0.912</td>\n",
       "      <td>0.665</td>\n",
       "      <td>70401.0</td>\n",
       "      <td>70401.0</td>\n",
       "      <td>NaN</td>\n",
       "      <td>NaN</td>\n",
       "      <td>45345.0</td>\n",
       "      <td>0.002</td>\n",
       "      <td>0.032</td>\n",
       "      <td>0.061</td>\n",
       "      <td>0.053</td>\n",
       "      <td>0.146</td>\n",
       "    </tr>\n",
       "    <tr>\n",
       "      <th>2</th>\n",
       "      <td>1425.0</td>\n",
       "      <td>0.740</td>\n",
       "      <td>0.287</td>\n",
       "      <td>46600.0</td>\n",
       "      <td>46600.0</td>\n",
       "      <td>0.71</td>\n",
       "      <td>0.17</td>\n",
       "      <td>32527.0</td>\n",
       "      <td>0.000</td>\n",
       "      <td>0.152</td>\n",
       "      <td>0.068</td>\n",
       "      <td>0.308</td>\n",
       "      <td>0.014</td>\n",
       "    </tr>\n",
       "    <tr>\n",
       "      <th>3</th>\n",
       "      <td>2364.0</td>\n",
       "      <td>0.807</td>\n",
       "      <td>0.658</td>\n",
       "      <td>68146.0</td>\n",
       "      <td>68146.0</td>\n",
       "      <td>0.78</td>\n",
       "      <td>0.44</td>\n",
       "      <td>32999.0</td>\n",
       "      <td>0.001</td>\n",
       "      <td>0.018</td>\n",
       "      <td>0.070</td>\n",
       "      <td>0.088</td>\n",
       "      <td>0.004</td>\n",
       "    </tr>\n",
       "    <tr>\n",
       "      <th>4</th>\n",
       "      <td>2129.0</td>\n",
       "      <td>0.780</td>\n",
       "      <td>0.539</td>\n",
       "      <td>61012.0</td>\n",
       "      <td>61012.0</td>\n",
       "      <td>0.71</td>\n",
       "      <td>0.22</td>\n",
       "      <td>35383.0</td>\n",
       "      <td>0.002</td>\n",
       "      <td>0.027</td>\n",
       "      <td>0.030</td>\n",
       "      <td>0.067</td>\n",
       "      <td>0.008</td>\n",
       "    </tr>\n",
       "  </tbody>\n",
       "</table>\n",
       "</div>"
      ],
      "text/plain": [
       "   n_students  freshman_satisfaction  grad_rate  resident_cost  \\\n",
       "0      7394.0                  0.640      0.252        21426.0   \n",
       "1      2168.0                  0.912      0.665        70401.0   \n",
       "2      1425.0                  0.740      0.287        46600.0   \n",
       "3      2364.0                  0.807      0.658        68146.0   \n",
       "4      2129.0                  0.780      0.539        61012.0   \n",
       "\n",
       "   nonresident_cost  need_met  merit_aid  avg_grad_debt  pct_american_indian  \\\n",
       "0           23012.0      0.62       0.55        23670.0                0.005   \n",
       "1           70401.0       NaN        NaN        45345.0                0.002   \n",
       "2           46600.0      0.71       0.17        32527.0                0.000   \n",
       "3           68146.0      0.78       0.44        32999.0                0.001   \n",
       "4           61012.0      0.71       0.22        35383.0                0.002   \n",
       "\n",
       "   pct_african_american  pct_asian_pacific_islander  pct_hispanic  \\\n",
       "0                 0.049                       0.019         0.290   \n",
       "1                 0.032                       0.061         0.053   \n",
       "2                 0.152                       0.068         0.308   \n",
       "3                 0.018                       0.070         0.088   \n",
       "4                 0.027                       0.030         0.067   \n",
       "\n",
       "   pct_international  \n",
       "0              0.018  \n",
       "1              0.146  \n",
       "2              0.014  \n",
       "3              0.004  \n",
       "4              0.008  "
      ]
     },
     "execution_count": 25,
     "metadata": {},
     "output_type": "execute_result"
    }
   ],
   "source": [
    "merged_data[numeric_cols] = merged_data[numeric_cols].astype(\"float\")\n",
    "\n",
    "percentage_cols = [\"freshman_satisfaction\", \"grad_rate\", \"need_met\", \"merit_aid\", \"pct_american_indian\", \"pct_african_american\", \"pct_asian_pacific_islander\", \"pct_hispanic\", \"pct_international\"]\n",
    "merged_data[percentage_cols] = merged_data[percentage_cols] / 100 # divide values by 100 to convert to decimal form\n",
    "\n",
    "merged_data[numeric_cols].head()"
   ]
  },
  {
   "cell_type": "markdown",
   "metadata": {},
   "source": [
    "## Exporting the Full Dataset\n",
    "\n",
    "Finally, let's sort our dataframe alphabetically by the `name` column and export it to a CSV file."
   ]
  },
  {
   "cell_type": "code",
   "execution_count": 26,
   "metadata": {},
   "outputs": [
    {
     "data": {
      "text/html": [
       "<div>\n",
       "<style scoped>\n",
       "    .dataframe tbody tr th:only-of-type {\n",
       "        vertical-align: middle;\n",
       "    }\n",
       "\n",
       "    .dataframe tbody tr th {\n",
       "        vertical-align: top;\n",
       "    }\n",
       "\n",
       "    .dataframe thead th {\n",
       "        text-align: right;\n",
       "    }\n",
       "</style>\n",
       "<table border=\"1\" class=\"dataframe\">\n",
       "  <thead>\n",
       "    <tr style=\"text-align: right;\">\n",
       "      <th></th>\n",
       "      <th>name</th>\n",
       "      <th>city</th>\n",
       "      <th>state</th>\n",
       "      <th>n_students</th>\n",
       "      <th>type</th>\n",
       "      <th>acceptance_difficulty</th>\n",
       "      <th>freshman_satisfaction</th>\n",
       "      <th>grad_rate</th>\n",
       "      <th>resident_cost</th>\n",
       "      <th>nonresident_cost</th>\n",
       "      <th>need_met</th>\n",
       "      <th>merit_aid</th>\n",
       "      <th>avg_grad_debt</th>\n",
       "      <th>gender_mix</th>\n",
       "      <th>pct_american_indian</th>\n",
       "      <th>pct_african_american</th>\n",
       "      <th>pct_asian_pacific_islander</th>\n",
       "      <th>pct_hispanic</th>\n",
       "      <th>pct_international</th>\n",
       "    </tr>\n",
       "  </thead>\n",
       "  <tbody>\n",
       "    <tr>\n",
       "      <th>0</th>\n",
       "      <td>Abilene Christian University</td>\n",
       "      <td>Abilene</td>\n",
       "      <td>TX</td>\n",
       "      <td>3670.0</td>\n",
       "      <td>Priv</td>\n",
       "      <td>Mod</td>\n",
       "      <td>0.765</td>\n",
       "      <td>0.481</td>\n",
       "      <td>51957.0</td>\n",
       "      <td>51957.0</td>\n",
       "      <td>0.71</td>\n",
       "      <td>1.00</td>\n",
       "      <td>NaN</td>\n",
       "      <td>Coed</td>\n",
       "      <td>0.003</td>\n",
       "      <td>0.091</td>\n",
       "      <td>0.013</td>\n",
       "      <td>0.178</td>\n",
       "      <td>0.039</td>\n",
       "    </tr>\n",
       "    <tr>\n",
       "      <th>1</th>\n",
       "      <td>Academy of Art University</td>\n",
       "      <td>San Francisco</td>\n",
       "      <td>CA</td>\n",
       "      <td>7051.0</td>\n",
       "      <td>Proft</td>\n",
       "      <td>Non</td>\n",
       "      <td>0.780</td>\n",
       "      <td>0.055</td>\n",
       "      <td>52532.0</td>\n",
       "      <td>52532.0</td>\n",
       "      <td>0.32</td>\n",
       "      <td>0.11</td>\n",
       "      <td>35862.0</td>\n",
       "      <td>Coed</td>\n",
       "      <td>0.007</td>\n",
       "      <td>0.081</td>\n",
       "      <td>0.092</td>\n",
       "      <td>0.155</td>\n",
       "      <td>0.278</td>\n",
       "    </tr>\n",
       "    <tr>\n",
       "      <th>2</th>\n",
       "      <td>Adams State University</td>\n",
       "      <td>Alamosa</td>\n",
       "      <td>CO</td>\n",
       "      <td>1991.0</td>\n",
       "      <td>Pub</td>\n",
       "      <td>Mod</td>\n",
       "      <td>0.538</td>\n",
       "      <td>0.240</td>\n",
       "      <td>22916.0</td>\n",
       "      <td>34340.0</td>\n",
       "      <td>0.70</td>\n",
       "      <td>0.41</td>\n",
       "      <td>22822.0</td>\n",
       "      <td>Coed</td>\n",
       "      <td>0.013</td>\n",
       "      <td>0.081</td>\n",
       "      <td>0.012</td>\n",
       "      <td>0.348</td>\n",
       "      <td>0.006</td>\n",
       "    </tr>\n",
       "    <tr>\n",
       "      <th>3</th>\n",
       "      <td>Adelphi University</td>\n",
       "      <td>Garden City</td>\n",
       "      <td>NY</td>\n",
       "      <td>5391.0</td>\n",
       "      <td>Priv</td>\n",
       "      <td>Mod</td>\n",
       "      <td>0.810</td>\n",
       "      <td>0.603</td>\n",
       "      <td>58710.0</td>\n",
       "      <td>58710.0</td>\n",
       "      <td>0.44</td>\n",
       "      <td>0.86</td>\n",
       "      <td>34980.0</td>\n",
       "      <td>Coed</td>\n",
       "      <td>0.002</td>\n",
       "      <td>0.090</td>\n",
       "      <td>0.115</td>\n",
       "      <td>0.181</td>\n",
       "      <td>0.040</td>\n",
       "    </tr>\n",
       "    <tr>\n",
       "      <th>4</th>\n",
       "      <td>Adrian College</td>\n",
       "      <td>Adrian</td>\n",
       "      <td>MI</td>\n",
       "      <td>1647.0</td>\n",
       "      <td>Priv</td>\n",
       "      <td>Mod</td>\n",
       "      <td>0.700</td>\n",
       "      <td>0.422</td>\n",
       "      <td>NaN</td>\n",
       "      <td>NaN</td>\n",
       "      <td>0.77</td>\n",
       "      <td>0.22</td>\n",
       "      <td>27741.0</td>\n",
       "      <td>Coed</td>\n",
       "      <td>0.004</td>\n",
       "      <td>0.099</td>\n",
       "      <td>0.006</td>\n",
       "      <td>0.023</td>\n",
       "      <td>0.001</td>\n",
       "    </tr>\n",
       "    <tr>\n",
       "      <th>5</th>\n",
       "      <td>Adventist University of Health Sciences</td>\n",
       "      <td>Orlando</td>\n",
       "      <td>FL</td>\n",
       "      <td>1341.0</td>\n",
       "      <td>Priv</td>\n",
       "      <td>Min</td>\n",
       "      <td>0.660</td>\n",
       "      <td>NaN</td>\n",
       "      <td>28872.0</td>\n",
       "      <td>28872.0</td>\n",
       "      <td>0.31</td>\n",
       "      <td>0.14</td>\n",
       "      <td>38990.0</td>\n",
       "      <td>Coed</td>\n",
       "      <td>0.002</td>\n",
       "      <td>0.188</td>\n",
       "      <td>0.058</td>\n",
       "      <td>0.324</td>\n",
       "      <td>0.016</td>\n",
       "    </tr>\n",
       "    <tr>\n",
       "      <th>6</th>\n",
       "      <td>Agnes Scott College</td>\n",
       "      <td>Decatur</td>\n",
       "      <td>GA</td>\n",
       "      <td>996.0</td>\n",
       "      <td>Priv</td>\n",
       "      <td>Mod</td>\n",
       "      <td>0.789</td>\n",
       "      <td>0.638</td>\n",
       "      <td>57705.0</td>\n",
       "      <td>57705.0</td>\n",
       "      <td>0.84</td>\n",
       "      <td>0.37</td>\n",
       "      <td>30850.0</td>\n",
       "      <td>Women</td>\n",
       "      <td>0.002</td>\n",
       "      <td>0.335</td>\n",
       "      <td>0.083</td>\n",
       "      <td>0.137</td>\n",
       "      <td>0.070</td>\n",
       "    </tr>\n",
       "    <tr>\n",
       "      <th>7</th>\n",
       "      <td>Alabama A&amp;M University</td>\n",
       "      <td>Huntsville</td>\n",
       "      <td>AL</td>\n",
       "      <td>4940.0</td>\n",
       "      <td>Pub</td>\n",
       "      <td>Min</td>\n",
       "      <td>0.750</td>\n",
       "      <td>0.372</td>\n",
       "      <td>24036.0</td>\n",
       "      <td>32646.0</td>\n",
       "      <td>0.74</td>\n",
       "      <td>0.07</td>\n",
       "      <td>38819.0</td>\n",
       "      <td>Coed</td>\n",
       "      <td>0.001</td>\n",
       "      <td>0.970</td>\n",
       "      <td>0.002</td>\n",
       "      <td>0.003</td>\n",
       "      <td>0.009</td>\n",
       "    </tr>\n",
       "    <tr>\n",
       "      <th>8</th>\n",
       "      <td>Alabama State University</td>\n",
       "      <td>Montgomery</td>\n",
       "      <td>AL</td>\n",
       "      <td>3903.0</td>\n",
       "      <td>Pub</td>\n",
       "      <td>Min</td>\n",
       "      <td>0.590</td>\n",
       "      <td>0.101</td>\n",
       "      <td>22260.0</td>\n",
       "      <td>30588.0</td>\n",
       "      <td>0.81</td>\n",
       "      <td>0.33</td>\n",
       "      <td>3376.0</td>\n",
       "      <td>Coed</td>\n",
       "      <td>0.001</td>\n",
       "      <td>0.945</td>\n",
       "      <td>0.005</td>\n",
       "      <td>0.010</td>\n",
       "      <td>0.010</td>\n",
       "    </tr>\n",
       "    <tr>\n",
       "      <th>9</th>\n",
       "      <td>Alaska Bible College</td>\n",
       "      <td>Palmer</td>\n",
       "      <td>AK</td>\n",
       "      <td>50.0</td>\n",
       "      <td>Priv</td>\n",
       "      <td>Min</td>\n",
       "      <td>0.200</td>\n",
       "      <td>NaN</td>\n",
       "      <td>15800.0</td>\n",
       "      <td>15800.0</td>\n",
       "      <td>NaN</td>\n",
       "      <td>NaN</td>\n",
       "      <td>NaN</td>\n",
       "      <td>Coed</td>\n",
       "      <td>0.013</td>\n",
       "      <td>0.007</td>\n",
       "      <td>NaN</td>\n",
       "      <td>0.013</td>\n",
       "      <td>NaN</td>\n",
       "    </tr>\n",
       "  </tbody>\n",
       "</table>\n",
       "</div>"
      ],
      "text/plain": [
       "                                      name           city state  n_students  \\\n",
       "0             Abilene Christian University        Abilene    TX      3670.0   \n",
       "1                Academy of Art University  San Francisco    CA      7051.0   \n",
       "2                   Adams State University        Alamosa    CO      1991.0   \n",
       "3                       Adelphi University    Garden City    NY      5391.0   \n",
       "4                           Adrian College         Adrian    MI      1647.0   \n",
       "5  Adventist University of Health Sciences        Orlando    FL      1341.0   \n",
       "6                      Agnes Scott College        Decatur    GA       996.0   \n",
       "7                   Alabama A&M University     Huntsville    AL      4940.0   \n",
       "8                 Alabama State University     Montgomery    AL      3903.0   \n",
       "9                     Alaska Bible College         Palmer    AK        50.0   \n",
       "\n",
       "    type acceptance_difficulty  freshman_satisfaction  grad_rate  \\\n",
       "0   Priv                   Mod                  0.765      0.481   \n",
       "1  Proft                   Non                  0.780      0.055   \n",
       "2    Pub                   Mod                  0.538      0.240   \n",
       "3   Priv                   Mod                  0.810      0.603   \n",
       "4   Priv                   Mod                  0.700      0.422   \n",
       "5   Priv                   Min                  0.660        NaN   \n",
       "6   Priv                   Mod                  0.789      0.638   \n",
       "7    Pub                   Min                  0.750      0.372   \n",
       "8    Pub                   Min                  0.590      0.101   \n",
       "9   Priv                   Min                  0.200        NaN   \n",
       "\n",
       "   resident_cost  nonresident_cost  need_met  merit_aid  avg_grad_debt  \\\n",
       "0        51957.0           51957.0      0.71       1.00            NaN   \n",
       "1        52532.0           52532.0      0.32       0.11        35862.0   \n",
       "2        22916.0           34340.0      0.70       0.41        22822.0   \n",
       "3        58710.0           58710.0      0.44       0.86        34980.0   \n",
       "4            NaN               NaN      0.77       0.22        27741.0   \n",
       "5        28872.0           28872.0      0.31       0.14        38990.0   \n",
       "6        57705.0           57705.0      0.84       0.37        30850.0   \n",
       "7        24036.0           32646.0      0.74       0.07        38819.0   \n",
       "8        22260.0           30588.0      0.81       0.33         3376.0   \n",
       "9        15800.0           15800.0       NaN        NaN            NaN   \n",
       "\n",
       "  gender_mix  pct_american_indian  pct_african_american  \\\n",
       "0       Coed                0.003                 0.091   \n",
       "1       Coed                0.007                 0.081   \n",
       "2       Coed                0.013                 0.081   \n",
       "3       Coed                0.002                 0.090   \n",
       "4       Coed                0.004                 0.099   \n",
       "5       Coed                0.002                 0.188   \n",
       "6      Women                0.002                 0.335   \n",
       "7       Coed                0.001                 0.970   \n",
       "8       Coed                0.001                 0.945   \n",
       "9       Coed                0.013                 0.007   \n",
       "\n",
       "   pct_asian_pacific_islander  pct_hispanic  pct_international  \n",
       "0                       0.013         0.178              0.039  \n",
       "1                       0.092         0.155              0.278  \n",
       "2                       0.012         0.348              0.006  \n",
       "3                       0.115         0.181              0.040  \n",
       "4                       0.006         0.023              0.001  \n",
       "5                       0.058         0.324              0.016  \n",
       "6                       0.083         0.137              0.070  \n",
       "7                       0.002         0.003              0.009  \n",
       "8                       0.005         0.010              0.010  \n",
       "9                         NaN         0.013                NaN  "
      ]
     },
     "execution_count": 26,
     "metadata": {},
     "output_type": "execute_result"
    }
   ],
   "source": [
    "data_full_final = merged_data.sort_values(by=\"name\").reset_index(drop=True)\n",
    "data_full_final.head(10)"
   ]
  },
  {
   "cell_type": "code",
   "execution_count": 27,
   "metadata": {},
   "outputs": [],
   "source": [
    "data_full_final.to_csv(\"college_data_full.csv\")"
   ]
  },
  {
   "cell_type": "markdown",
   "metadata": {},
   "source": [
    "As a reminder, we've exported the full 1966 school dataset with missing values included in order to make all of the data accessible, should someone want to use it.  Depending on a user's use-case, they can choose how to handle missing values (dropping columns, replacing with the mean, etc).\n",
    "\n",
    "Let's now take this one step further and produce a second, filtered dataset with no missing values, as well."
   ]
  },
  {
   "cell_type": "markdown",
   "metadata": {},
   "source": [
    "## Generating A Second Dataset: No Missing Values (Preparing for Machine Learning)\n",
    "\n",
    "We're going to approach this as though we're interested in creating a starting point dataset for training a predictive model.  There are a number of ways we can approach this - this is just one.\n",
    "\n",
    "Looking through the data, it seems likely that many of the schools with at least one unreported value also didn't report at least one other value.  Let's take a look at the breakdown of how many rows contain various totals of missing values."
   ]
  },
  {
   "cell_type": "code",
   "execution_count": 28,
   "metadata": {
    "scrolled": true
   },
   "outputs": [
    {
     "data": {
      "text/plain": [
       "0     967\n",
       "1     217\n",
       "2     139\n",
       "3      96\n",
       "14     68\n",
       "12     68\n",
       "5      67\n",
       "7      58\n",
       "4      56\n",
       "13     54\n",
       "6      46\n",
       "8      45\n",
       "9      34\n",
       "10     26\n",
       "11     25\n",
       "dtype: int64"
      ]
     },
     "execution_count": 28,
     "metadata": {},
     "output_type": "execute_result"
    }
   ],
   "source": [
    "def count_missing(row):\n",
    "    total_missing = row.isnull().sum() # calculate total # of NaN values in a row first\n",
    "    \n",
    "    # then iterate through string columns other than name, state, or city and add any \"Not Reported\" values\n",
    "    for col in [\"gender_mix\", \"acceptance_difficulty\", \"type\"]:\n",
    "        if row[col] == \"Not Reported\":\n",
    "            total_missing += 1\n",
    "    \n",
    "    return total_missing\n",
    "\n",
    "missing_values = data_full_final.apply(count_missing, axis = 1)\n",
    "missing_values.value_counts()"
   ]
  },
  {
   "cell_type": "markdown",
   "metadata": {},
   "source": [
    "We can see that if we were to solely drop all rows with any missing values, we would be left with only around half of the original dataset.  However, if we kept rows below a certain threshold of missing values, we may be able to retain a substantial number of rows while only needing to handle a small percentage of missing values further.  Schools with several unreported values aren't providing a lot of value to the dataset, so we can feel reasonably comfortable eliminating them in this case."
   ]
  },
  {
   "cell_type": "code",
   "execution_count": 29,
   "metadata": {},
   "outputs": [
    {
     "name": "stdout",
     "output_type": "stream",
     "text": [
      "<class 'pandas.core.frame.DataFrame'>\n",
      "Int64Index: 1323 entries, 0 to 1965\n",
      "Data columns (total 19 columns):\n",
      "name                          1323 non-null object\n",
      "city                          1323 non-null object\n",
      "state                         1323 non-null object\n",
      "n_students                    1323 non-null float64\n",
      "type                          1323 non-null object\n",
      "acceptance_difficulty         1323 non-null object\n",
      "freshman_satisfaction         1303 non-null float64\n",
      "grad_rate                     1235 non-null float64\n",
      "resident_cost                 1258 non-null float64\n",
      "nonresident_cost              1260 non-null float64\n",
      "need_met                      1260 non-null float64\n",
      "merit_aid                     1273 non-null float64\n",
      "avg_grad_debt                 1236 non-null float64\n",
      "gender_mix                    1323 non-null object\n",
      "pct_american_indian           1319 non-null float64\n",
      "pct_african_american          1323 non-null float64\n",
      "pct_asian_pacific_islander    1314 non-null float64\n",
      "pct_hispanic                  1323 non-null float64\n",
      "pct_international             1317 non-null float64\n",
      "dtypes: float64(13), object(6)\n",
      "memory usage: 206.7+ KB\n"
     ]
    }
   ],
   "source": [
    "data_filtered = data_full_final[missing_values < 3]\n",
    "data_filtered.info()"
   ]
  },
  {
   "cell_type": "markdown",
   "metadata": {},
   "source": [
    "We can see that if we take the approach of eliminating rows with 3 or more missing values, not only would we still be left with 1323 rows (67% of the original dataset; a reasonable amount), but we would only have to handle at most 88 missing values (6.7%) in any given column within the remaining data.  Also notable is the fact that we aren't missing any values in the 3 categorical columns (`type`, `acceptance_difficulty`, and `gender_mix`).\n",
    "\n",
    "Again, we're approaching this as though we're preparing the data for machine learning, so we still want to take care of the remaining missing values.\n",
    "\n",
    "Approaches to handling the remaining missing values could include:\n",
    "\n",
    "- Filling in missing values in the finance-related columns with column means subsetted by school type (as there may be some correlation between money-related values \\[the columns where most remaining missing values are, such as `resident_cost`\\] and school type \\[private, public, etc\\])\n",
    "- Examining what column(s) `grad_rate` correlates with most highly and filling in with estimated values accordingly\n",
    "\n",
    "\n",
    "For now, we'll keep things simple, as a starting point, by filling in the remaining missing values with their column means.  We'll also reset the dataframe indices and export to a CSV."
   ]
  },
  {
   "cell_type": "code",
   "execution_count": 30,
   "metadata": {},
   "outputs": [
    {
     "name": "stdout",
     "output_type": "stream",
     "text": [
      "<class 'pandas.core.frame.DataFrame'>\n",
      "RangeIndex: 1323 entries, 0 to 1322\n",
      "Data columns (total 19 columns):\n",
      "name                          1323 non-null object\n",
      "city                          1323 non-null object\n",
      "state                         1323 non-null object\n",
      "n_students                    1323 non-null float64\n",
      "type                          1323 non-null object\n",
      "acceptance_difficulty         1323 non-null object\n",
      "freshman_satisfaction         1323 non-null float64\n",
      "grad_rate                     1323 non-null float64\n",
      "resident_cost                 1323 non-null float64\n",
      "nonresident_cost              1323 non-null float64\n",
      "need_met                      1323 non-null float64\n",
      "merit_aid                     1323 non-null float64\n",
      "avg_grad_debt                 1323 non-null float64\n",
      "gender_mix                    1323 non-null object\n",
      "pct_american_indian           1323 non-null float64\n",
      "pct_african_american          1323 non-null float64\n",
      "pct_asian_pacific_islander    1323 non-null float64\n",
      "pct_hispanic                  1323 non-null float64\n",
      "pct_international             1323 non-null float64\n",
      "dtypes: float64(13), object(6)\n",
      "memory usage: 196.5+ KB\n"
     ]
    }
   ],
   "source": [
    "college_data_ml_prepped = data_filtered.fillna(data_filtered.mean()).reset_index(drop=True)\n",
    "college_data_ml_prepped.info()"
   ]
  },
  {
   "cell_type": "code",
   "execution_count": 31,
   "metadata": {},
   "outputs": [],
   "source": [
    "college_data_ml_prepped.to_csv(\"college_data_ml.csv\")"
   ]
  },
  {
   "cell_type": "markdown",
   "metadata": {},
   "source": [
    "## Potential Next Steps\n",
    "\n",
    "We've scraped, cleaned, and exported our dataset(s).  Future steps could include:\n",
    "- Parsing each individual school's CollegeData profile page for more granular data (i.e. exact acceptance percentages, cost-of-attendance sub-values, etc) and compiling for a more comprehensive dataset\n",
    "- Performing an analysis examining common threads among subsets of schools or correlations between columns (i.e cost & graduation rate)\n",
    "- Exploring alternative approaches for handling missing values (as mentioned above)"
   ]
  }
 ],
 "metadata": {
  "kernelspec": {
   "display_name": "Python 3",
   "language": "python",
   "name": "python3"
  },
  "language_info": {
   "codemirror_mode": {
    "name": "ipython",
    "version": 3
   },
   "file_extension": ".py",
   "mimetype": "text/x-python",
   "name": "python",
   "nbconvert_exporter": "python",
   "pygments_lexer": "ipython3",
   "version": "3.7.3"
  }
 },
 "nbformat": 4,
 "nbformat_minor": 2
}
